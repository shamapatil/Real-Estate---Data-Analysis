{
  "cells": [
    {
      "cell_type": "code",
      "execution_count": null,
      "metadata": {
        "id": "n_ICz54Lm6eh"
      },
      "outputs": [],
      "source": [
        "import pandas as pd\n",
        "import numpy as np\n",
        "import seaborn as sns\n",
        "import matplotlib.pyplot as plt\n",
        "import warnings\n",
        "warnings.filterwarnings(\"ignore\")"
      ]
    },
    {
      "cell_type": "code",
      "execution_count": null,
      "metadata": {
        "colab": {
          "base_uri": "https://localhost:8080/",
          "height": 73
        },
        "id": "mfts2pp1nFC5",
        "outputId": "db002300-2b6b-40b8-c815-fa2154b8bf35"
      },
      "outputs": [
        {
          "output_type": "display_data",
          "data": {
            "text/plain": [
              "<IPython.core.display.HTML object>"
            ],
            "text/html": [
              "\n",
              "     <input type=\"file\" id=\"files-a2c0dae5-bc97-448a-b193-731de50658c8\" name=\"files[]\" multiple disabled\n",
              "        style=\"border:none\" />\n",
              "     <output id=\"result-a2c0dae5-bc97-448a-b193-731de50658c8\">\n",
              "      Upload widget is only available when the cell has been executed in the\n",
              "      current browser session. Please rerun this cell to enable.\n",
              "      </output>\n",
              "      <script>// Copyright 2017 Google LLC\n",
              "//\n",
              "// Licensed under the Apache License, Version 2.0 (the \"License\");\n",
              "// you may not use this file except in compliance with the License.\n",
              "// You may obtain a copy of the License at\n",
              "//\n",
              "//      http://www.apache.org/licenses/LICENSE-2.0\n",
              "//\n",
              "// Unless required by applicable law or agreed to in writing, software\n",
              "// distributed under the License is distributed on an \"AS IS\" BASIS,\n",
              "// WITHOUT WARRANTIES OR CONDITIONS OF ANY KIND, either express or implied.\n",
              "// See the License for the specific language governing permissions and\n",
              "// limitations under the License.\n",
              "\n",
              "/**\n",
              " * @fileoverview Helpers for google.colab Python module.\n",
              " */\n",
              "(function(scope) {\n",
              "function span(text, styleAttributes = {}) {\n",
              "  const element = document.createElement('span');\n",
              "  element.textContent = text;\n",
              "  for (const key of Object.keys(styleAttributes)) {\n",
              "    element.style[key] = styleAttributes[key];\n",
              "  }\n",
              "  return element;\n",
              "}\n",
              "\n",
              "// Max number of bytes which will be uploaded at a time.\n",
              "const MAX_PAYLOAD_SIZE = 100 * 1024;\n",
              "\n",
              "function _uploadFiles(inputId, outputId) {\n",
              "  const steps = uploadFilesStep(inputId, outputId);\n",
              "  const outputElement = document.getElementById(outputId);\n",
              "  // Cache steps on the outputElement to make it available for the next call\n",
              "  // to uploadFilesContinue from Python.\n",
              "  outputElement.steps = steps;\n",
              "\n",
              "  return _uploadFilesContinue(outputId);\n",
              "}\n",
              "\n",
              "// This is roughly an async generator (not supported in the browser yet),\n",
              "// where there are multiple asynchronous steps and the Python side is going\n",
              "// to poll for completion of each step.\n",
              "// This uses a Promise to block the python side on completion of each step,\n",
              "// then passes the result of the previous step as the input to the next step.\n",
              "function _uploadFilesContinue(outputId) {\n",
              "  const outputElement = document.getElementById(outputId);\n",
              "  const steps = outputElement.steps;\n",
              "\n",
              "  const next = steps.next(outputElement.lastPromiseValue);\n",
              "  return Promise.resolve(next.value.promise).then((value) => {\n",
              "    // Cache the last promise value to make it available to the next\n",
              "    // step of the generator.\n",
              "    outputElement.lastPromiseValue = value;\n",
              "    return next.value.response;\n",
              "  });\n",
              "}\n",
              "\n",
              "/**\n",
              " * Generator function which is called between each async step of the upload\n",
              " * process.\n",
              " * @param {string} inputId Element ID of the input file picker element.\n",
              " * @param {string} outputId Element ID of the output display.\n",
              " * @return {!Iterable<!Object>} Iterable of next steps.\n",
              " */\n",
              "function* uploadFilesStep(inputId, outputId) {\n",
              "  const inputElement = document.getElementById(inputId);\n",
              "  inputElement.disabled = false;\n",
              "\n",
              "  const outputElement = document.getElementById(outputId);\n",
              "  outputElement.innerHTML = '';\n",
              "\n",
              "  const pickedPromise = new Promise((resolve) => {\n",
              "    inputElement.addEventListener('change', (e) => {\n",
              "      resolve(e.target.files);\n",
              "    });\n",
              "  });\n",
              "\n",
              "  const cancel = document.createElement('button');\n",
              "  inputElement.parentElement.appendChild(cancel);\n",
              "  cancel.textContent = 'Cancel upload';\n",
              "  const cancelPromise = new Promise((resolve) => {\n",
              "    cancel.onclick = () => {\n",
              "      resolve(null);\n",
              "    };\n",
              "  });\n",
              "\n",
              "  // Wait for the user to pick the files.\n",
              "  const files = yield {\n",
              "    promise: Promise.race([pickedPromise, cancelPromise]),\n",
              "    response: {\n",
              "      action: 'starting',\n",
              "    }\n",
              "  };\n",
              "\n",
              "  cancel.remove();\n",
              "\n",
              "  // Disable the input element since further picks are not allowed.\n",
              "  inputElement.disabled = true;\n",
              "\n",
              "  if (!files) {\n",
              "    return {\n",
              "      response: {\n",
              "        action: 'complete',\n",
              "      }\n",
              "    };\n",
              "  }\n",
              "\n",
              "  for (const file of files) {\n",
              "    const li = document.createElement('li');\n",
              "    li.append(span(file.name, {fontWeight: 'bold'}));\n",
              "    li.append(span(\n",
              "        `(${file.type || 'n/a'}) - ${file.size} bytes, ` +\n",
              "        `last modified: ${\n",
              "            file.lastModifiedDate ? file.lastModifiedDate.toLocaleDateString() :\n",
              "                                    'n/a'} - `));\n",
              "    const percent = span('0% done');\n",
              "    li.appendChild(percent);\n",
              "\n",
              "    outputElement.appendChild(li);\n",
              "\n",
              "    const fileDataPromise = new Promise((resolve) => {\n",
              "      const reader = new FileReader();\n",
              "      reader.onload = (e) => {\n",
              "        resolve(e.target.result);\n",
              "      };\n",
              "      reader.readAsArrayBuffer(file);\n",
              "    });\n",
              "    // Wait for the data to be ready.\n",
              "    let fileData = yield {\n",
              "      promise: fileDataPromise,\n",
              "      response: {\n",
              "        action: 'continue',\n",
              "      }\n",
              "    };\n",
              "\n",
              "    // Use a chunked sending to avoid message size limits. See b/62115660.\n",
              "    let position = 0;\n",
              "    do {\n",
              "      const length = Math.min(fileData.byteLength - position, MAX_PAYLOAD_SIZE);\n",
              "      const chunk = new Uint8Array(fileData, position, length);\n",
              "      position += length;\n",
              "\n",
              "      const base64 = btoa(String.fromCharCode.apply(null, chunk));\n",
              "      yield {\n",
              "        response: {\n",
              "          action: 'append',\n",
              "          file: file.name,\n",
              "          data: base64,\n",
              "        },\n",
              "      };\n",
              "\n",
              "      let percentDone = fileData.byteLength === 0 ?\n",
              "          100 :\n",
              "          Math.round((position / fileData.byteLength) * 100);\n",
              "      percent.textContent = `${percentDone}% done`;\n",
              "\n",
              "    } while (position < fileData.byteLength);\n",
              "  }\n",
              "\n",
              "  // All done.\n",
              "  yield {\n",
              "    response: {\n",
              "      action: 'complete',\n",
              "    }\n",
              "  };\n",
              "}\n",
              "\n",
              "scope.google = scope.google || {};\n",
              "scope.google.colab = scope.google.colab || {};\n",
              "scope.google.colab._files = {\n",
              "  _uploadFiles,\n",
              "  _uploadFilesContinue,\n",
              "};\n",
              "})(self);\n",
              "</script> "
            ]
          },
          "metadata": {}
        },
        {
          "output_type": "stream",
          "name": "stdout",
          "text": [
            "Saving data_info_prop (1).csv to data_info_prop (1) (1).csv\n"
          ]
        }
      ],
      "source": [
        "from google.colab import files\n",
        "uploaded=files.upload()"
      ]
    },
    {
      "cell_type": "code",
      "execution_count": null,
      "metadata": {
        "colab": {
          "base_uri": "https://localhost:8080/",
          "height": 423
        },
        "id": "KDEJXWnNnJij",
        "outputId": "8a1a281c-8d00-40e8-a50d-c001cbdb7373"
      },
      "outputs": [
        {
          "output_type": "execute_result",
          "data": {
            "text/plain": [
              "                 Title              location  bhk  bath  total_sqft  \\\n",
              "0     2 BHK Apartment          Maruthi Nagar    2     2         959   \n",
              "1     2 BHK Apartment         CV Raman Nagar    2     2        1165   \n",
              "2     2 BHK Apartment         CV Raman Nagar    2     2        1150   \n",
              "3     2 BHK Apartment    6th Block Jayanagar    2     2        1065   \n",
              "4     3 BHK Apartment          Sarjapur Road    3     2         922   \n",
              "...                ...                   ...  ...   ...         ...   \n",
              "1182  2 BHK Apartment         Jalahalli West    2     2        1225   \n",
              "1183  3 BHK Apartment            Nehru Nagar    3     2        1275   \n",
              "1184  2 BHK Apartment          Sarjapur Road    2     2        1049   \n",
              "1185  2 BHK Apartment     Addischetan Layout    2     2        1000   \n",
              "1186  2 Bedroom House                Kengeri    2     1         650   \n",
              "\n",
              "      price_per_sqft  price      area_type  \n",
              "0               4171  42.00   Built-upArea  \n",
              "1               5579  65.00     CarpetArea  \n",
              "2               5391  62.00     CarpetArea  \n",
              "3               6568  69.95   Built-upArea  \n",
              "4               7049  65.00  Superbuilt-up  \n",
              "...              ...    ...            ...  \n",
              "1182            6530  80.00  Superbuilt-up  \n",
              "1183            5800  73.95  Superbuilt-up  \n",
              "1184            5243  55.00     CarpetArea  \n",
              "1185            5800  58.00     CarpetArea  \n",
              "1186            8923  58.00   Built-upArea  \n",
              "\n",
              "[1187 rows x 8 columns]"
            ],
            "text/html": [
              "\n",
              "  <div id=\"df-a5f22a11-a36a-414d-ae63-ca479b7b006c\">\n",
              "    <div class=\"colab-df-container\">\n",
              "      <div>\n",
              "<style scoped>\n",
              "    .dataframe tbody tr th:only-of-type {\n",
              "        vertical-align: middle;\n",
              "    }\n",
              "\n",
              "    .dataframe tbody tr th {\n",
              "        vertical-align: top;\n",
              "    }\n",
              "\n",
              "    .dataframe thead th {\n",
              "        text-align: right;\n",
              "    }\n",
              "</style>\n",
              "<table border=\"1\" class=\"dataframe\">\n",
              "  <thead>\n",
              "    <tr style=\"text-align: right;\">\n",
              "      <th></th>\n",
              "      <th>Title</th>\n",
              "      <th>location</th>\n",
              "      <th>bhk</th>\n",
              "      <th>bath</th>\n",
              "      <th>total_sqft</th>\n",
              "      <th>price_per_sqft</th>\n",
              "      <th>price</th>\n",
              "      <th>area_type</th>\n",
              "    </tr>\n",
              "  </thead>\n",
              "  <tbody>\n",
              "    <tr>\n",
              "      <th>0</th>\n",
              "      <td>2 BHK Apartment</td>\n",
              "      <td>Maruthi Nagar</td>\n",
              "      <td>2</td>\n",
              "      <td>2</td>\n",
              "      <td>959</td>\n",
              "      <td>4171</td>\n",
              "      <td>42.00</td>\n",
              "      <td>Built-upArea</td>\n",
              "    </tr>\n",
              "    <tr>\n",
              "      <th>1</th>\n",
              "      <td>2 BHK Apartment</td>\n",
              "      <td>CV Raman Nagar</td>\n",
              "      <td>2</td>\n",
              "      <td>2</td>\n",
              "      <td>1165</td>\n",
              "      <td>5579</td>\n",
              "      <td>65.00</td>\n",
              "      <td>CarpetArea</td>\n",
              "    </tr>\n",
              "    <tr>\n",
              "      <th>2</th>\n",
              "      <td>2 BHK Apartment</td>\n",
              "      <td>CV Raman Nagar</td>\n",
              "      <td>2</td>\n",
              "      <td>2</td>\n",
              "      <td>1150</td>\n",
              "      <td>5391</td>\n",
              "      <td>62.00</td>\n",
              "      <td>CarpetArea</td>\n",
              "    </tr>\n",
              "    <tr>\n",
              "      <th>3</th>\n",
              "      <td>2 BHK Apartment</td>\n",
              "      <td>6th Block Jayanagar</td>\n",
              "      <td>2</td>\n",
              "      <td>2</td>\n",
              "      <td>1065</td>\n",
              "      <td>6568</td>\n",
              "      <td>69.95</td>\n",
              "      <td>Built-upArea</td>\n",
              "    </tr>\n",
              "    <tr>\n",
              "      <th>4</th>\n",
              "      <td>3 BHK Apartment</td>\n",
              "      <td>Sarjapur Road</td>\n",
              "      <td>3</td>\n",
              "      <td>2</td>\n",
              "      <td>922</td>\n",
              "      <td>7049</td>\n",
              "      <td>65.00</td>\n",
              "      <td>Superbuilt-up</td>\n",
              "    </tr>\n",
              "    <tr>\n",
              "      <th>...</th>\n",
              "      <td>...</td>\n",
              "      <td>...</td>\n",
              "      <td>...</td>\n",
              "      <td>...</td>\n",
              "      <td>...</td>\n",
              "      <td>...</td>\n",
              "      <td>...</td>\n",
              "      <td>...</td>\n",
              "    </tr>\n",
              "    <tr>\n",
              "      <th>1182</th>\n",
              "      <td>2 BHK Apartment</td>\n",
              "      <td>Jalahalli West</td>\n",
              "      <td>2</td>\n",
              "      <td>2</td>\n",
              "      <td>1225</td>\n",
              "      <td>6530</td>\n",
              "      <td>80.00</td>\n",
              "      <td>Superbuilt-up</td>\n",
              "    </tr>\n",
              "    <tr>\n",
              "      <th>1183</th>\n",
              "      <td>3 BHK Apartment</td>\n",
              "      <td>Nehru Nagar</td>\n",
              "      <td>3</td>\n",
              "      <td>2</td>\n",
              "      <td>1275</td>\n",
              "      <td>5800</td>\n",
              "      <td>73.95</td>\n",
              "      <td>Superbuilt-up</td>\n",
              "    </tr>\n",
              "    <tr>\n",
              "      <th>1184</th>\n",
              "      <td>2 BHK Apartment</td>\n",
              "      <td>Sarjapur Road</td>\n",
              "      <td>2</td>\n",
              "      <td>2</td>\n",
              "      <td>1049</td>\n",
              "      <td>5243</td>\n",
              "      <td>55.00</td>\n",
              "      <td>CarpetArea</td>\n",
              "    </tr>\n",
              "    <tr>\n",
              "      <th>1185</th>\n",
              "      <td>2 BHK Apartment</td>\n",
              "      <td>Addischetan Layout</td>\n",
              "      <td>2</td>\n",
              "      <td>2</td>\n",
              "      <td>1000</td>\n",
              "      <td>5800</td>\n",
              "      <td>58.00</td>\n",
              "      <td>CarpetArea</td>\n",
              "    </tr>\n",
              "    <tr>\n",
              "      <th>1186</th>\n",
              "      <td>2 Bedroom House</td>\n",
              "      <td>Kengeri</td>\n",
              "      <td>2</td>\n",
              "      <td>1</td>\n",
              "      <td>650</td>\n",
              "      <td>8923</td>\n",
              "      <td>58.00</td>\n",
              "      <td>Built-upArea</td>\n",
              "    </tr>\n",
              "  </tbody>\n",
              "</table>\n",
              "<p>1187 rows × 8 columns</p>\n",
              "</div>\n",
              "      <button class=\"colab-df-convert\" onclick=\"convertToInteractive('df-a5f22a11-a36a-414d-ae63-ca479b7b006c')\"\n",
              "              title=\"Convert this dataframe to an interactive table.\"\n",
              "              style=\"display:none;\">\n",
              "        \n",
              "  <svg xmlns=\"http://www.w3.org/2000/svg\" height=\"24px\"viewBox=\"0 0 24 24\"\n",
              "       width=\"24px\">\n",
              "    <path d=\"M0 0h24v24H0V0z\" fill=\"none\"/>\n",
              "    <path d=\"M18.56 5.44l.94 2.06.94-2.06 2.06-.94-2.06-.94-.94-2.06-.94 2.06-2.06.94zm-11 1L8.5 8.5l.94-2.06 2.06-.94-2.06-.94L8.5 2.5l-.94 2.06-2.06.94zm10 10l.94 2.06.94-2.06 2.06-.94-2.06-.94-.94-2.06-.94 2.06-2.06.94z\"/><path d=\"M17.41 7.96l-1.37-1.37c-.4-.4-.92-.59-1.43-.59-.52 0-1.04.2-1.43.59L10.3 9.45l-7.72 7.72c-.78.78-.78 2.05 0 2.83L4 21.41c.39.39.9.59 1.41.59.51 0 1.02-.2 1.41-.59l7.78-7.78 2.81-2.81c.8-.78.8-2.07 0-2.86zM5.41 20L4 18.59l7.72-7.72 1.47 1.35L5.41 20z\"/>\n",
              "  </svg>\n",
              "      </button>\n",
              "      \n",
              "  <style>\n",
              "    .colab-df-container {\n",
              "      display:flex;\n",
              "      flex-wrap:wrap;\n",
              "      gap: 12px;\n",
              "    }\n",
              "\n",
              "    .colab-df-convert {\n",
              "      background-color: #E8F0FE;\n",
              "      border: none;\n",
              "      border-radius: 50%;\n",
              "      cursor: pointer;\n",
              "      display: none;\n",
              "      fill: #1967D2;\n",
              "      height: 32px;\n",
              "      padding: 0 0 0 0;\n",
              "      width: 32px;\n",
              "    }\n",
              "\n",
              "    .colab-df-convert:hover {\n",
              "      background-color: #E2EBFA;\n",
              "      box-shadow: 0px 1px 2px rgba(60, 64, 67, 0.3), 0px 1px 3px 1px rgba(60, 64, 67, 0.15);\n",
              "      fill: #174EA6;\n",
              "    }\n",
              "\n",
              "    [theme=dark] .colab-df-convert {\n",
              "      background-color: #3B4455;\n",
              "      fill: #D2E3FC;\n",
              "    }\n",
              "\n",
              "    [theme=dark] .colab-df-convert:hover {\n",
              "      background-color: #434B5C;\n",
              "      box-shadow: 0px 1px 3px 1px rgba(0, 0, 0, 0.15);\n",
              "      filter: drop-shadow(0px 1px 2px rgba(0, 0, 0, 0.3));\n",
              "      fill: #FFFFFF;\n",
              "    }\n",
              "  </style>\n",
              "\n",
              "      <script>\n",
              "        const buttonEl =\n",
              "          document.querySelector('#df-a5f22a11-a36a-414d-ae63-ca479b7b006c button.colab-df-convert');\n",
              "        buttonEl.style.display =\n",
              "          google.colab.kernel.accessAllowed ? 'block' : 'none';\n",
              "\n",
              "        async function convertToInteractive(key) {\n",
              "          const element = document.querySelector('#df-a5f22a11-a36a-414d-ae63-ca479b7b006c');\n",
              "          const dataTable =\n",
              "            await google.colab.kernel.invokeFunction('convertToInteractive',\n",
              "                                                     [key], {});\n",
              "          if (!dataTable) return;\n",
              "\n",
              "          const docLinkHtml = 'Like what you see? Visit the ' +\n",
              "            '<a target=\"_blank\" href=https://colab.research.google.com/notebooks/data_table.ipynb>data table notebook</a>'\n",
              "            + ' to learn more about interactive tables.';\n",
              "          element.innerHTML = '';\n",
              "          dataTable['output_type'] = 'display_data';\n",
              "          await google.colab.output.renderOutput(dataTable, element);\n",
              "          const docLink = document.createElement('div');\n",
              "          docLink.innerHTML = docLinkHtml;\n",
              "          element.appendChild(docLink);\n",
              "        }\n",
              "      </script>\n",
              "    </div>\n",
              "  </div>\n",
              "  "
            ]
          },
          "metadata": {},
          "execution_count": 3
        }
      ],
      "source": [
        "df = pd.read_csv(\"data_info_prop (1).csv\")\n",
        "df"
      ]
    },
    {
      "cell_type": "code",
      "execution_count": null,
      "metadata": {
        "id": "NkBmESyn4oo0"
      },
      "outputs": [],
      "source": [
        "df['bhk'] = df['bhk'].astype(float);\n",
        "df['bath'] = df['bath'].astype(float);\n",
        "df['total_sqft'] = df['total_sqft'].astype(float);\n",
        "df['price_per_sqft'] = df['price_per_sqft'].astype(float);"
      ]
    },
    {
      "cell_type": "code",
      "execution_count": null,
      "metadata": {
        "colab": {
          "base_uri": "https://localhost:8080/"
        },
        "id": "YRqKqs_U43so",
        "outputId": "89b06ac4-9dfd-4024-ef5d-e93fe7caad59"
      },
      "outputs": [
        {
          "output_type": "stream",
          "name": "stdout",
          "text": [
            "<class 'pandas.core.frame.DataFrame'>\n",
            "RangeIndex: 1187 entries, 0 to 1186\n",
            "Data columns (total 8 columns):\n",
            " #   Column          Non-Null Count  Dtype  \n",
            "---  ------          --------------  -----  \n",
            " 0   Title           1187 non-null   object \n",
            " 1   location        1187 non-null   object \n",
            " 2   bhk             1187 non-null   float64\n",
            " 3   bath            1187 non-null   float64\n",
            " 4   total_sqft      1187 non-null   float64\n",
            " 5   price_per_sqft  1187 non-null   float64\n",
            " 6   price           1187 non-null   float64\n",
            " 7   area_type       1187 non-null   object \n",
            "dtypes: float64(5), object(3)\n",
            "memory usage: 74.3+ KB\n"
          ]
        }
      ],
      "source": [
        "df.info()"
      ]
    },
    {
      "cell_type": "code",
      "execution_count": null,
      "metadata": {
        "colab": {
          "base_uri": "https://localhost:8080/"
        },
        "id": "Hxb-v3u9pYSa",
        "outputId": "21630601-ea62-497d-afc7-21abcfc3749e"
      },
      "outputs": [
        {
          "output_type": "stream",
          "name": "stdout",
          "text": [
            "2 BHK Apartment                     592\n",
            "3 BHK Apartment                     347\n",
            "1 Bedroom House                      44\n",
            "2 BHK Independent Builder Floor      37\n",
            "1 BHK Apartment                      37\n",
            "2 Bedroom House                      36\n",
            "3 Bedroom House                      34\n",
            "3 BHK Independent Builder Floor      21\n",
            "4 Bedroom House                      17\n",
            "1 BHK Independent Builder Floor      13\n",
            "4 BHK Apartment                       7\n",
            "4 BHK Independent Builder Floor       1\n",
            "Studio Apartments / 1 RK Flats        1\n",
            "Name: Title, dtype: int64\n",
            "********************\n",
            " Whitefield                  32\n",
            " Electronic City             29\n",
            " Electronics City Phase 1    28\n",
            " Yelahanka                   28\n",
            " Sarjapur Road               26\n",
            "                             ..\n",
            " Ayyappa Nagar                1\n",
            " Electronic City Phase II     1\n",
            " Dodda Banaswadi              1\n",
            " Chambenahalli                1\n",
            " Addischetan Layout           1\n",
            "Name: location, Length: 477, dtype: int64\n",
            "********************\n",
            "2.0    665\n",
            "3.0    402\n",
            "1.0     95\n",
            "4.0     25\n",
            "Name: bhk, dtype: int64\n",
            "********************\n",
            "2.0    821\n",
            "3.0    232\n",
            "1.0    115\n",
            "4.0     19\n",
            "Name: bath, dtype: int64\n",
            "********************\n",
            "1200.0    83\n",
            "1000.0    24\n",
            "1100.0    24\n",
            "1500.0    23\n",
            "800.0     18\n",
            "          ..\n",
            "1853.0     1\n",
            "955.0      1\n",
            "607.0      1\n",
            "520.0      1\n",
            "1789.0     1\n",
            "Name: total_sqft, Length: 487, dtype: int64\n",
            "********************\n",
            "5000.0     17\n",
            "6000.0     13\n",
            "8333.0      9\n",
            "10000.0     9\n",
            "6250.0      9\n",
            "           ..\n",
            "4045.0      1\n",
            "10606.0     1\n",
            "6122.0      1\n",
            "5846.0      1\n",
            "8923.0      1\n",
            "Name: price_per_sqft, Length: 922, dtype: int64\n",
            "********************\n",
            "70.00     53\n",
            "55.00     50\n",
            "75.00     49\n",
            "65.00     46\n",
            "80.00     38\n",
            "          ..\n",
            "49.75      1\n",
            "48.50      1\n",
            "31.00      1\n",
            "149.00     1\n",
            "73.95      1\n",
            "Name: price, Length: 192, dtype: int64\n",
            "********************\n",
            "Superbuilt-up    511\n",
            "Built-upArea     320\n",
            "CarpetArea       272\n",
            "PlotArea          84\n",
            "Name: area_type, dtype: int64\n",
            "********************\n"
          ]
        }
      ],
      "source": [
        "for column in df.columns:\n",
        "  print(df[column].value_counts())\n",
        "  print(\"*\"*20)"
      ]
    },
    {
      "cell_type": "code",
      "execution_count": null,
      "metadata": {
        "colab": {
          "base_uri": "https://localhost:8080/"
        },
        "id": "t4CD-EoRs6zw",
        "outputId": "b211913c-fb22-4424-8778-e2e4417c032d"
      },
      "outputs": [
        {
          "output_type": "execute_result",
          "data": {
            "text/plain": [
              "Title             0\n",
              "location          0\n",
              "bhk               0\n",
              "bath              0\n",
              "total_sqft        0\n",
              "price_per_sqft    0\n",
              "price             0\n",
              "area_type         0\n",
              "dtype: int64"
            ]
          },
          "metadata": {},
          "execution_count": 7
        }
      ],
      "source": [
        "df.isna().sum()"
      ]
    },
    {
      "cell_type": "code",
      "execution_count": null,
      "metadata": {
        "colab": {
          "base_uri": "https://localhost:8080/",
          "height": 423
        },
        "id": "GARfj-_W9cWy",
        "outputId": "020cde28-ffef-4b02-b201-6d4c108bb7e6"
      },
      "outputs": [
        {
          "output_type": "execute_result",
          "data": {
            "text/plain": [
              "                 Title              location  bhk  bath  total_sqft  \\\n",
              "0     2 BHK Apartment          Maruthi Nagar  2.0   2.0       959.0   \n",
              "1     2 BHK Apartment         CV Raman Nagar  2.0   2.0      1165.0   \n",
              "2     2 BHK Apartment         CV Raman Nagar  2.0   2.0      1150.0   \n",
              "3     2 BHK Apartment    6th Block Jayanagar  2.0   2.0      1065.0   \n",
              "4     3 BHK Apartment          Sarjapur Road  3.0   2.0       922.0   \n",
              "...                ...                   ...  ...   ...         ...   \n",
              "1182  2 BHK Apartment         Jalahalli West  2.0   2.0      1225.0   \n",
              "1183  3 BHK Apartment            Nehru Nagar  3.0   2.0      1275.0   \n",
              "1184  2 BHK Apartment          Sarjapur Road  2.0   2.0      1049.0   \n",
              "1185  2 BHK Apartment     Addischetan Layout  2.0   2.0      1000.0   \n",
              "1186  2 Bedroom House                Kengeri  2.0   1.0       650.0   \n",
              "\n",
              "      price_per_sqft  price      area_type  \n",
              "0             4171.0  42.00   Built-upArea  \n",
              "1             5579.0  65.00     CarpetArea  \n",
              "2             5391.0  62.00     CarpetArea  \n",
              "3             6568.0  69.95   Built-upArea  \n",
              "4             7049.0  65.00  Superbuilt-up  \n",
              "...              ...    ...            ...  \n",
              "1182          6530.0  80.00  Superbuilt-up  \n",
              "1183          5800.0  73.95  Superbuilt-up  \n",
              "1184          5243.0  55.00     CarpetArea  \n",
              "1185          5800.0  58.00     CarpetArea  \n",
              "1186          8923.0  58.00   Built-upArea  \n",
              "\n",
              "[1187 rows x 8 columns]"
            ],
            "text/html": [
              "\n",
              "  <div id=\"df-99390923-3e69-4a0b-838d-8a89e89ac7be\">\n",
              "    <div class=\"colab-df-container\">\n",
              "      <div>\n",
              "<style scoped>\n",
              "    .dataframe tbody tr th:only-of-type {\n",
              "        vertical-align: middle;\n",
              "    }\n",
              "\n",
              "    .dataframe tbody tr th {\n",
              "        vertical-align: top;\n",
              "    }\n",
              "\n",
              "    .dataframe thead th {\n",
              "        text-align: right;\n",
              "    }\n",
              "</style>\n",
              "<table border=\"1\" class=\"dataframe\">\n",
              "  <thead>\n",
              "    <tr style=\"text-align: right;\">\n",
              "      <th></th>\n",
              "      <th>Title</th>\n",
              "      <th>location</th>\n",
              "      <th>bhk</th>\n",
              "      <th>bath</th>\n",
              "      <th>total_sqft</th>\n",
              "      <th>price_per_sqft</th>\n",
              "      <th>price</th>\n",
              "      <th>area_type</th>\n",
              "    </tr>\n",
              "  </thead>\n",
              "  <tbody>\n",
              "    <tr>\n",
              "      <th>0</th>\n",
              "      <td>2 BHK Apartment</td>\n",
              "      <td>Maruthi Nagar</td>\n",
              "      <td>2.0</td>\n",
              "      <td>2.0</td>\n",
              "      <td>959.0</td>\n",
              "      <td>4171.0</td>\n",
              "      <td>42.00</td>\n",
              "      <td>Built-upArea</td>\n",
              "    </tr>\n",
              "    <tr>\n",
              "      <th>1</th>\n",
              "      <td>2 BHK Apartment</td>\n",
              "      <td>CV Raman Nagar</td>\n",
              "      <td>2.0</td>\n",
              "      <td>2.0</td>\n",
              "      <td>1165.0</td>\n",
              "      <td>5579.0</td>\n",
              "      <td>65.00</td>\n",
              "      <td>CarpetArea</td>\n",
              "    </tr>\n",
              "    <tr>\n",
              "      <th>2</th>\n",
              "      <td>2 BHK Apartment</td>\n",
              "      <td>CV Raman Nagar</td>\n",
              "      <td>2.0</td>\n",
              "      <td>2.0</td>\n",
              "      <td>1150.0</td>\n",
              "      <td>5391.0</td>\n",
              "      <td>62.00</td>\n",
              "      <td>CarpetArea</td>\n",
              "    </tr>\n",
              "    <tr>\n",
              "      <th>3</th>\n",
              "      <td>2 BHK Apartment</td>\n",
              "      <td>6th Block Jayanagar</td>\n",
              "      <td>2.0</td>\n",
              "      <td>2.0</td>\n",
              "      <td>1065.0</td>\n",
              "      <td>6568.0</td>\n",
              "      <td>69.95</td>\n",
              "      <td>Built-upArea</td>\n",
              "    </tr>\n",
              "    <tr>\n",
              "      <th>4</th>\n",
              "      <td>3 BHK Apartment</td>\n",
              "      <td>Sarjapur Road</td>\n",
              "      <td>3.0</td>\n",
              "      <td>2.0</td>\n",
              "      <td>922.0</td>\n",
              "      <td>7049.0</td>\n",
              "      <td>65.00</td>\n",
              "      <td>Superbuilt-up</td>\n",
              "    </tr>\n",
              "    <tr>\n",
              "      <th>...</th>\n",
              "      <td>...</td>\n",
              "      <td>...</td>\n",
              "      <td>...</td>\n",
              "      <td>...</td>\n",
              "      <td>...</td>\n",
              "      <td>...</td>\n",
              "      <td>...</td>\n",
              "      <td>...</td>\n",
              "    </tr>\n",
              "    <tr>\n",
              "      <th>1182</th>\n",
              "      <td>2 BHK Apartment</td>\n",
              "      <td>Jalahalli West</td>\n",
              "      <td>2.0</td>\n",
              "      <td>2.0</td>\n",
              "      <td>1225.0</td>\n",
              "      <td>6530.0</td>\n",
              "      <td>80.00</td>\n",
              "      <td>Superbuilt-up</td>\n",
              "    </tr>\n",
              "    <tr>\n",
              "      <th>1183</th>\n",
              "      <td>3 BHK Apartment</td>\n",
              "      <td>Nehru Nagar</td>\n",
              "      <td>3.0</td>\n",
              "      <td>2.0</td>\n",
              "      <td>1275.0</td>\n",
              "      <td>5800.0</td>\n",
              "      <td>73.95</td>\n",
              "      <td>Superbuilt-up</td>\n",
              "    </tr>\n",
              "    <tr>\n",
              "      <th>1184</th>\n",
              "      <td>2 BHK Apartment</td>\n",
              "      <td>Sarjapur Road</td>\n",
              "      <td>2.0</td>\n",
              "      <td>2.0</td>\n",
              "      <td>1049.0</td>\n",
              "      <td>5243.0</td>\n",
              "      <td>55.00</td>\n",
              "      <td>CarpetArea</td>\n",
              "    </tr>\n",
              "    <tr>\n",
              "      <th>1185</th>\n",
              "      <td>2 BHK Apartment</td>\n",
              "      <td>Addischetan Layout</td>\n",
              "      <td>2.0</td>\n",
              "      <td>2.0</td>\n",
              "      <td>1000.0</td>\n",
              "      <td>5800.0</td>\n",
              "      <td>58.00</td>\n",
              "      <td>CarpetArea</td>\n",
              "    </tr>\n",
              "    <tr>\n",
              "      <th>1186</th>\n",
              "      <td>2 Bedroom House</td>\n",
              "      <td>Kengeri</td>\n",
              "      <td>2.0</td>\n",
              "      <td>1.0</td>\n",
              "      <td>650.0</td>\n",
              "      <td>8923.0</td>\n",
              "      <td>58.00</td>\n",
              "      <td>Built-upArea</td>\n",
              "    </tr>\n",
              "  </tbody>\n",
              "</table>\n",
              "<p>1187 rows × 8 columns</p>\n",
              "</div>\n",
              "      <button class=\"colab-df-convert\" onclick=\"convertToInteractive('df-99390923-3e69-4a0b-838d-8a89e89ac7be')\"\n",
              "              title=\"Convert this dataframe to an interactive table.\"\n",
              "              style=\"display:none;\">\n",
              "        \n",
              "  <svg xmlns=\"http://www.w3.org/2000/svg\" height=\"24px\"viewBox=\"0 0 24 24\"\n",
              "       width=\"24px\">\n",
              "    <path d=\"M0 0h24v24H0V0z\" fill=\"none\"/>\n",
              "    <path d=\"M18.56 5.44l.94 2.06.94-2.06 2.06-.94-2.06-.94-.94-2.06-.94 2.06-2.06.94zm-11 1L8.5 8.5l.94-2.06 2.06-.94-2.06-.94L8.5 2.5l-.94 2.06-2.06.94zm10 10l.94 2.06.94-2.06 2.06-.94-2.06-.94-.94-2.06-.94 2.06-2.06.94z\"/><path d=\"M17.41 7.96l-1.37-1.37c-.4-.4-.92-.59-1.43-.59-.52 0-1.04.2-1.43.59L10.3 9.45l-7.72 7.72c-.78.78-.78 2.05 0 2.83L4 21.41c.39.39.9.59 1.41.59.51 0 1.02-.2 1.41-.59l7.78-7.78 2.81-2.81c.8-.78.8-2.07 0-2.86zM5.41 20L4 18.59l7.72-7.72 1.47 1.35L5.41 20z\"/>\n",
              "  </svg>\n",
              "      </button>\n",
              "      \n",
              "  <style>\n",
              "    .colab-df-container {\n",
              "      display:flex;\n",
              "      flex-wrap:wrap;\n",
              "      gap: 12px;\n",
              "    }\n",
              "\n",
              "    .colab-df-convert {\n",
              "      background-color: #E8F0FE;\n",
              "      border: none;\n",
              "      border-radius: 50%;\n",
              "      cursor: pointer;\n",
              "      display: none;\n",
              "      fill: #1967D2;\n",
              "      height: 32px;\n",
              "      padding: 0 0 0 0;\n",
              "      width: 32px;\n",
              "    }\n",
              "\n",
              "    .colab-df-convert:hover {\n",
              "      background-color: #E2EBFA;\n",
              "      box-shadow: 0px 1px 2px rgba(60, 64, 67, 0.3), 0px 1px 3px 1px rgba(60, 64, 67, 0.15);\n",
              "      fill: #174EA6;\n",
              "    }\n",
              "\n",
              "    [theme=dark] .colab-df-convert {\n",
              "      background-color: #3B4455;\n",
              "      fill: #D2E3FC;\n",
              "    }\n",
              "\n",
              "    [theme=dark] .colab-df-convert:hover {\n",
              "      background-color: #434B5C;\n",
              "      box-shadow: 0px 1px 3px 1px rgba(0, 0, 0, 0.15);\n",
              "      filter: drop-shadow(0px 1px 2px rgba(0, 0, 0, 0.3));\n",
              "      fill: #FFFFFF;\n",
              "    }\n",
              "  </style>\n",
              "\n",
              "      <script>\n",
              "        const buttonEl =\n",
              "          document.querySelector('#df-99390923-3e69-4a0b-838d-8a89e89ac7be button.colab-df-convert');\n",
              "        buttonEl.style.display =\n",
              "          google.colab.kernel.accessAllowed ? 'block' : 'none';\n",
              "\n",
              "        async function convertToInteractive(key) {\n",
              "          const element = document.querySelector('#df-99390923-3e69-4a0b-838d-8a89e89ac7be');\n",
              "          const dataTable =\n",
              "            await google.colab.kernel.invokeFunction('convertToInteractive',\n",
              "                                                     [key], {});\n",
              "          if (!dataTable) return;\n",
              "\n",
              "          const docLinkHtml = 'Like what you see? Visit the ' +\n",
              "            '<a target=\"_blank\" href=https://colab.research.google.com/notebooks/data_table.ipynb>data table notebook</a>'\n",
              "            + ' to learn more about interactive tables.';\n",
              "          element.innerHTML = '';\n",
              "          dataTable['output_type'] = 'display_data';\n",
              "          await google.colab.output.renderOutput(dataTable, element);\n",
              "          const docLink = document.createElement('div');\n",
              "          docLink.innerHTML = docLinkHtml;\n",
              "          element.appendChild(docLink);\n",
              "        }\n",
              "      </script>\n",
              "    </div>\n",
              "  </div>\n",
              "  "
            ]
          },
          "metadata": {},
          "execution_count": 8
        }
      ],
      "source": [
        "df"
      ]
    },
    {
      "cell_type": "code",
      "execution_count": null,
      "metadata": {
        "id": "6746hhPqtblV"
      },
      "outputs": [],
      "source": [
        "df.drop(columns=['Title'],inplace=True)"
      ]
    },
    {
      "cell_type": "code",
      "execution_count": null,
      "metadata": {
        "id": "nRMUVPXlMC53"
      },
      "outputs": [],
      "source": [
        "df.drop(index=df.index[0], axis=0, inplace=True)"
      ]
    },
    {
      "cell_type": "code",
      "execution_count": null,
      "metadata": {
        "colab": {
          "base_uri": "https://localhost:8080/",
          "height": 300
        },
        "id": "WN_-M3MUt0rn",
        "outputId": "8504951b-fdb5-4ede-b733-8e63b6d81843"
      },
      "outputs": [
        {
          "output_type": "execute_result",
          "data": {
            "text/plain": [
              "               bhk         bath   total_sqft  price_per_sqft        price\n",
              "count  1186.000000  1186.000000  1186.000000     1186.000000  1186.000000\n",
              "mean      2.301012     2.130691  1220.580944     6071.618887    75.139030\n",
              "std       0.642739     0.582981   310.570525     1847.770401    33.962906\n",
              "min       1.000000     1.000000   418.000000     1000.000000    10.500000\n",
              "25%       2.000000     2.000000  1032.250000     4790.000000    52.000000\n",
              "50%       2.000000     2.000000  1200.000000     5799.000000    69.250000\n",
              "75%       3.000000     2.000000  1391.500000     7065.000000    90.000000\n",
              "max       4.000000     4.000000  2077.000000    11500.000000   240.000000"
            ],
            "text/html": [
              "\n",
              "  <div id=\"df-060adf7a-017b-457d-ac78-fc5f8352b8fd\">\n",
              "    <div class=\"colab-df-container\">\n",
              "      <div>\n",
              "<style scoped>\n",
              "    .dataframe tbody tr th:only-of-type {\n",
              "        vertical-align: middle;\n",
              "    }\n",
              "\n",
              "    .dataframe tbody tr th {\n",
              "        vertical-align: top;\n",
              "    }\n",
              "\n",
              "    .dataframe thead th {\n",
              "        text-align: right;\n",
              "    }\n",
              "</style>\n",
              "<table border=\"1\" class=\"dataframe\">\n",
              "  <thead>\n",
              "    <tr style=\"text-align: right;\">\n",
              "      <th></th>\n",
              "      <th>bhk</th>\n",
              "      <th>bath</th>\n",
              "      <th>total_sqft</th>\n",
              "      <th>price_per_sqft</th>\n",
              "      <th>price</th>\n",
              "    </tr>\n",
              "  </thead>\n",
              "  <tbody>\n",
              "    <tr>\n",
              "      <th>count</th>\n",
              "      <td>1186.000000</td>\n",
              "      <td>1186.000000</td>\n",
              "      <td>1186.000000</td>\n",
              "      <td>1186.000000</td>\n",
              "      <td>1186.000000</td>\n",
              "    </tr>\n",
              "    <tr>\n",
              "      <th>mean</th>\n",
              "      <td>2.301012</td>\n",
              "      <td>2.130691</td>\n",
              "      <td>1220.580944</td>\n",
              "      <td>6071.618887</td>\n",
              "      <td>75.139030</td>\n",
              "    </tr>\n",
              "    <tr>\n",
              "      <th>std</th>\n",
              "      <td>0.642739</td>\n",
              "      <td>0.582981</td>\n",
              "      <td>310.570525</td>\n",
              "      <td>1847.770401</td>\n",
              "      <td>33.962906</td>\n",
              "    </tr>\n",
              "    <tr>\n",
              "      <th>min</th>\n",
              "      <td>1.000000</td>\n",
              "      <td>1.000000</td>\n",
              "      <td>418.000000</td>\n",
              "      <td>1000.000000</td>\n",
              "      <td>10.500000</td>\n",
              "    </tr>\n",
              "    <tr>\n",
              "      <th>25%</th>\n",
              "      <td>2.000000</td>\n",
              "      <td>2.000000</td>\n",
              "      <td>1032.250000</td>\n",
              "      <td>4790.000000</td>\n",
              "      <td>52.000000</td>\n",
              "    </tr>\n",
              "    <tr>\n",
              "      <th>50%</th>\n",
              "      <td>2.000000</td>\n",
              "      <td>2.000000</td>\n",
              "      <td>1200.000000</td>\n",
              "      <td>5799.000000</td>\n",
              "      <td>69.250000</td>\n",
              "    </tr>\n",
              "    <tr>\n",
              "      <th>75%</th>\n",
              "      <td>3.000000</td>\n",
              "      <td>2.000000</td>\n",
              "      <td>1391.500000</td>\n",
              "      <td>7065.000000</td>\n",
              "      <td>90.000000</td>\n",
              "    </tr>\n",
              "    <tr>\n",
              "      <th>max</th>\n",
              "      <td>4.000000</td>\n",
              "      <td>4.000000</td>\n",
              "      <td>2077.000000</td>\n",
              "      <td>11500.000000</td>\n",
              "      <td>240.000000</td>\n",
              "    </tr>\n",
              "  </tbody>\n",
              "</table>\n",
              "</div>\n",
              "      <button class=\"colab-df-convert\" onclick=\"convertToInteractive('df-060adf7a-017b-457d-ac78-fc5f8352b8fd')\"\n",
              "              title=\"Convert this dataframe to an interactive table.\"\n",
              "              style=\"display:none;\">\n",
              "        \n",
              "  <svg xmlns=\"http://www.w3.org/2000/svg\" height=\"24px\"viewBox=\"0 0 24 24\"\n",
              "       width=\"24px\">\n",
              "    <path d=\"M0 0h24v24H0V0z\" fill=\"none\"/>\n",
              "    <path d=\"M18.56 5.44l.94 2.06.94-2.06 2.06-.94-2.06-.94-.94-2.06-.94 2.06-2.06.94zm-11 1L8.5 8.5l.94-2.06 2.06-.94-2.06-.94L8.5 2.5l-.94 2.06-2.06.94zm10 10l.94 2.06.94-2.06 2.06-.94-2.06-.94-.94-2.06-.94 2.06-2.06.94z\"/><path d=\"M17.41 7.96l-1.37-1.37c-.4-.4-.92-.59-1.43-.59-.52 0-1.04.2-1.43.59L10.3 9.45l-7.72 7.72c-.78.78-.78 2.05 0 2.83L4 21.41c.39.39.9.59 1.41.59.51 0 1.02-.2 1.41-.59l7.78-7.78 2.81-2.81c.8-.78.8-2.07 0-2.86zM5.41 20L4 18.59l7.72-7.72 1.47 1.35L5.41 20z\"/>\n",
              "  </svg>\n",
              "      </button>\n",
              "      \n",
              "  <style>\n",
              "    .colab-df-container {\n",
              "      display:flex;\n",
              "      flex-wrap:wrap;\n",
              "      gap: 12px;\n",
              "    }\n",
              "\n",
              "    .colab-df-convert {\n",
              "      background-color: #E8F0FE;\n",
              "      border: none;\n",
              "      border-radius: 50%;\n",
              "      cursor: pointer;\n",
              "      display: none;\n",
              "      fill: #1967D2;\n",
              "      height: 32px;\n",
              "      padding: 0 0 0 0;\n",
              "      width: 32px;\n",
              "    }\n",
              "\n",
              "    .colab-df-convert:hover {\n",
              "      background-color: #E2EBFA;\n",
              "      box-shadow: 0px 1px 2px rgba(60, 64, 67, 0.3), 0px 1px 3px 1px rgba(60, 64, 67, 0.15);\n",
              "      fill: #174EA6;\n",
              "    }\n",
              "\n",
              "    [theme=dark] .colab-df-convert {\n",
              "      background-color: #3B4455;\n",
              "      fill: #D2E3FC;\n",
              "    }\n",
              "\n",
              "    [theme=dark] .colab-df-convert:hover {\n",
              "      background-color: #434B5C;\n",
              "      box-shadow: 0px 1px 3px 1px rgba(0, 0, 0, 0.15);\n",
              "      filter: drop-shadow(0px 1px 2px rgba(0, 0, 0, 0.3));\n",
              "      fill: #FFFFFF;\n",
              "    }\n",
              "  </style>\n",
              "\n",
              "      <script>\n",
              "        const buttonEl =\n",
              "          document.querySelector('#df-060adf7a-017b-457d-ac78-fc5f8352b8fd button.colab-df-convert');\n",
              "        buttonEl.style.display =\n",
              "          google.colab.kernel.accessAllowed ? 'block' : 'none';\n",
              "\n",
              "        async function convertToInteractive(key) {\n",
              "          const element = document.querySelector('#df-060adf7a-017b-457d-ac78-fc5f8352b8fd');\n",
              "          const dataTable =\n",
              "            await google.colab.kernel.invokeFunction('convertToInteractive',\n",
              "                                                     [key], {});\n",
              "          if (!dataTable) return;\n",
              "\n",
              "          const docLinkHtml = 'Like what you see? Visit the ' +\n",
              "            '<a target=\"_blank\" href=https://colab.research.google.com/notebooks/data_table.ipynb>data table notebook</a>'\n",
              "            + ' to learn more about interactive tables.';\n",
              "          element.innerHTML = '';\n",
              "          dataTable['output_type'] = 'display_data';\n",
              "          await google.colab.output.renderOutput(dataTable, element);\n",
              "          const docLink = document.createElement('div');\n",
              "          docLink.innerHTML = docLinkHtml;\n",
              "          element.appendChild(docLink);\n",
              "        }\n",
              "      </script>\n",
              "    </div>\n",
              "  </div>\n",
              "  "
            ]
          },
          "metadata": {},
          "execution_count": 11
        }
      ],
      "source": [
        "df.describe()"
      ]
    },
    {
      "cell_type": "code",
      "execution_count": null,
      "metadata": {
        "id": "IYBu1ZrsvCvh"
      },
      "outputs": [],
      "source": [
        "df['location'] = df['location'].apply(lambda x:x.strip())\n",
        "location_counts = df['location'].value_counts()"
      ]
    },
    {
      "cell_type": "code",
      "execution_count": null,
      "metadata": {
        "colab": {
          "base_uri": "https://localhost:8080/"
        },
        "id": "yNZYPjtbwj0A",
        "outputId": "595fb165-2181-4829-ecbe-c753aff7438d"
      },
      "outputs": [
        {
          "output_type": "execute_result",
          "data": {
            "text/plain": [
              "Manorayanapalya             1\n",
              "Gunjur                      1\n",
              "Indiranagar                 1\n",
              "Doddamma Layout             1\n",
              "RAK felicity                1\n",
              "                           ..\n",
              "Ayyappa Nagar               1\n",
              "Electronic City Phase II    1\n",
              "Dodda Banaswadi             1\n",
              "Chambenahalli               1\n",
              "Addischetan Layout          1\n",
              "Name: location, Length: 280, dtype: int64"
            ]
          },
          "metadata": {},
          "execution_count": 13
        }
      ],
      "source": [
        "location_count_less1 = location_counts[location_counts<=1]\n",
        "location_count_less1"
      ]
    },
    {
      "cell_type": "code",
      "execution_count": null,
      "metadata": {
        "id": "7PA5y4MbxOIR"
      },
      "outputs": [],
      "source": [
        "df['location'] = df['location'].apply(lambda x: 'other' if x in location_count_less1 else x)"
      ]
    },
    {
      "cell_type": "code",
      "execution_count": null,
      "metadata": {
        "colab": {
          "base_uri": "https://localhost:8080/"
        },
        "id": "iA1xy04gxodB",
        "outputId": "018a6863-ec1d-46fb-c59c-cfd74049fb09"
      },
      "outputs": [
        {
          "output_type": "execute_result",
          "data": {
            "text/plain": [
              "other                       280\n",
              "Whitefield                   32\n",
              "Electronic City              29\n",
              "Electronics City Phase 1     28\n",
              "Yelahanka                    28\n",
              "                           ... \n",
              "Kundalahalli                  2\n",
              "Thirupalya                    2\n",
              "Doddaballapur Road            2\n",
              "Nelamangala                   2\n",
              "Kadubeesanahalli              2\n",
              "Name: location, Length: 197, dtype: int64"
            ]
          },
          "metadata": {},
          "execution_count": 15
        }
      ],
      "source": [
        "df['location'].value_counts()"
      ]
    },
    {
      "cell_type": "code",
      "execution_count": null,
      "metadata": {
        "id": "weQcD2K3xyGs"
      },
      "outputs": [],
      "source": [
        "# outlier detection"
      ]
    },
    {
      "cell_type": "code",
      "execution_count": null,
      "metadata": {
        "colab": {
          "base_uri": "https://localhost:8080/",
          "height": 300
        },
        "id": "bGtxWpQxy4Tu",
        "outputId": "29d5d0a1-a2c9-44f1-d534-d0eeb5704727"
      },
      "outputs": [
        {
          "output_type": "execute_result",
          "data": {
            "text/plain": [
              "               bhk         bath   total_sqft  price_per_sqft        price\n",
              "count  1186.000000  1186.000000  1186.000000     1186.000000  1186.000000\n",
              "mean      2.301012     2.130691  1220.580944     6071.618887    75.139030\n",
              "std       0.642739     0.582981   310.570525     1847.770401    33.962906\n",
              "min       1.000000     1.000000   418.000000     1000.000000    10.500000\n",
              "25%       2.000000     2.000000  1032.250000     4790.000000    52.000000\n",
              "50%       2.000000     2.000000  1200.000000     5799.000000    69.250000\n",
              "75%       3.000000     2.000000  1391.500000     7065.000000    90.000000\n",
              "max       4.000000     4.000000  2077.000000    11500.000000   240.000000"
            ],
            "text/html": [
              "\n",
              "  <div id=\"df-7bb37f5f-87e6-4e95-91a9-bf26f3c48ea4\">\n",
              "    <div class=\"colab-df-container\">\n",
              "      <div>\n",
              "<style scoped>\n",
              "    .dataframe tbody tr th:only-of-type {\n",
              "        vertical-align: middle;\n",
              "    }\n",
              "\n",
              "    .dataframe tbody tr th {\n",
              "        vertical-align: top;\n",
              "    }\n",
              "\n",
              "    .dataframe thead th {\n",
              "        text-align: right;\n",
              "    }\n",
              "</style>\n",
              "<table border=\"1\" class=\"dataframe\">\n",
              "  <thead>\n",
              "    <tr style=\"text-align: right;\">\n",
              "      <th></th>\n",
              "      <th>bhk</th>\n",
              "      <th>bath</th>\n",
              "      <th>total_sqft</th>\n",
              "      <th>price_per_sqft</th>\n",
              "      <th>price</th>\n",
              "    </tr>\n",
              "  </thead>\n",
              "  <tbody>\n",
              "    <tr>\n",
              "      <th>count</th>\n",
              "      <td>1186.000000</td>\n",
              "      <td>1186.000000</td>\n",
              "      <td>1186.000000</td>\n",
              "      <td>1186.000000</td>\n",
              "      <td>1186.000000</td>\n",
              "    </tr>\n",
              "    <tr>\n",
              "      <th>mean</th>\n",
              "      <td>2.301012</td>\n",
              "      <td>2.130691</td>\n",
              "      <td>1220.580944</td>\n",
              "      <td>6071.618887</td>\n",
              "      <td>75.139030</td>\n",
              "    </tr>\n",
              "    <tr>\n",
              "      <th>std</th>\n",
              "      <td>0.642739</td>\n",
              "      <td>0.582981</td>\n",
              "      <td>310.570525</td>\n",
              "      <td>1847.770401</td>\n",
              "      <td>33.962906</td>\n",
              "    </tr>\n",
              "    <tr>\n",
              "      <th>min</th>\n",
              "      <td>1.000000</td>\n",
              "      <td>1.000000</td>\n",
              "      <td>418.000000</td>\n",
              "      <td>1000.000000</td>\n",
              "      <td>10.500000</td>\n",
              "    </tr>\n",
              "    <tr>\n",
              "      <th>25%</th>\n",
              "      <td>2.000000</td>\n",
              "      <td>2.000000</td>\n",
              "      <td>1032.250000</td>\n",
              "      <td>4790.000000</td>\n",
              "      <td>52.000000</td>\n",
              "    </tr>\n",
              "    <tr>\n",
              "      <th>50%</th>\n",
              "      <td>2.000000</td>\n",
              "      <td>2.000000</td>\n",
              "      <td>1200.000000</td>\n",
              "      <td>5799.000000</td>\n",
              "      <td>69.250000</td>\n",
              "    </tr>\n",
              "    <tr>\n",
              "      <th>75%</th>\n",
              "      <td>3.000000</td>\n",
              "      <td>2.000000</td>\n",
              "      <td>1391.500000</td>\n",
              "      <td>7065.000000</td>\n",
              "      <td>90.000000</td>\n",
              "    </tr>\n",
              "    <tr>\n",
              "      <th>max</th>\n",
              "      <td>4.000000</td>\n",
              "      <td>4.000000</td>\n",
              "      <td>2077.000000</td>\n",
              "      <td>11500.000000</td>\n",
              "      <td>240.000000</td>\n",
              "    </tr>\n",
              "  </tbody>\n",
              "</table>\n",
              "</div>\n",
              "      <button class=\"colab-df-convert\" onclick=\"convertToInteractive('df-7bb37f5f-87e6-4e95-91a9-bf26f3c48ea4')\"\n",
              "              title=\"Convert this dataframe to an interactive table.\"\n",
              "              style=\"display:none;\">\n",
              "        \n",
              "  <svg xmlns=\"http://www.w3.org/2000/svg\" height=\"24px\"viewBox=\"0 0 24 24\"\n",
              "       width=\"24px\">\n",
              "    <path d=\"M0 0h24v24H0V0z\" fill=\"none\"/>\n",
              "    <path d=\"M18.56 5.44l.94 2.06.94-2.06 2.06-.94-2.06-.94-.94-2.06-.94 2.06-2.06.94zm-11 1L8.5 8.5l.94-2.06 2.06-.94-2.06-.94L8.5 2.5l-.94 2.06-2.06.94zm10 10l.94 2.06.94-2.06 2.06-.94-2.06-.94-.94-2.06-.94 2.06-2.06.94z\"/><path d=\"M17.41 7.96l-1.37-1.37c-.4-.4-.92-.59-1.43-.59-.52 0-1.04.2-1.43.59L10.3 9.45l-7.72 7.72c-.78.78-.78 2.05 0 2.83L4 21.41c.39.39.9.59 1.41.59.51 0 1.02-.2 1.41-.59l7.78-7.78 2.81-2.81c.8-.78.8-2.07 0-2.86zM5.41 20L4 18.59l7.72-7.72 1.47 1.35L5.41 20z\"/>\n",
              "  </svg>\n",
              "      </button>\n",
              "      \n",
              "  <style>\n",
              "    .colab-df-container {\n",
              "      display:flex;\n",
              "      flex-wrap:wrap;\n",
              "      gap: 12px;\n",
              "    }\n",
              "\n",
              "    .colab-df-convert {\n",
              "      background-color: #E8F0FE;\n",
              "      border: none;\n",
              "      border-radius: 50%;\n",
              "      cursor: pointer;\n",
              "      display: none;\n",
              "      fill: #1967D2;\n",
              "      height: 32px;\n",
              "      padding: 0 0 0 0;\n",
              "      width: 32px;\n",
              "    }\n",
              "\n",
              "    .colab-df-convert:hover {\n",
              "      background-color: #E2EBFA;\n",
              "      box-shadow: 0px 1px 2px rgba(60, 64, 67, 0.3), 0px 1px 3px 1px rgba(60, 64, 67, 0.15);\n",
              "      fill: #174EA6;\n",
              "    }\n",
              "\n",
              "    [theme=dark] .colab-df-convert {\n",
              "      background-color: #3B4455;\n",
              "      fill: #D2E3FC;\n",
              "    }\n",
              "\n",
              "    [theme=dark] .colab-df-convert:hover {\n",
              "      background-color: #434B5C;\n",
              "      box-shadow: 0px 1px 3px 1px rgba(0, 0, 0, 0.15);\n",
              "      filter: drop-shadow(0px 1px 2px rgba(0, 0, 0, 0.3));\n",
              "      fill: #FFFFFF;\n",
              "    }\n",
              "  </style>\n",
              "\n",
              "      <script>\n",
              "        const buttonEl =\n",
              "          document.querySelector('#df-7bb37f5f-87e6-4e95-91a9-bf26f3c48ea4 button.colab-df-convert');\n",
              "        buttonEl.style.display =\n",
              "          google.colab.kernel.accessAllowed ? 'block' : 'none';\n",
              "\n",
              "        async function convertToInteractive(key) {\n",
              "          const element = document.querySelector('#df-7bb37f5f-87e6-4e95-91a9-bf26f3c48ea4');\n",
              "          const dataTable =\n",
              "            await google.colab.kernel.invokeFunction('convertToInteractive',\n",
              "                                                     [key], {});\n",
              "          if (!dataTable) return;\n",
              "\n",
              "          const docLinkHtml = 'Like what you see? Visit the ' +\n",
              "            '<a target=\"_blank\" href=https://colab.research.google.com/notebooks/data_table.ipynb>data table notebook</a>'\n",
              "            + ' to learn more about interactive tables.';\n",
              "          element.innerHTML = '';\n",
              "          dataTable['output_type'] = 'display_data';\n",
              "          await google.colab.output.renderOutput(dataTable, element);\n",
              "          const docLink = document.createElement('div');\n",
              "          docLink.innerHTML = docLinkHtml;\n",
              "          element.appendChild(docLink);\n",
              "        }\n",
              "      </script>\n",
              "    </div>\n",
              "  </div>\n",
              "  "
            ]
          },
          "metadata": {},
          "execution_count": 17
        }
      ],
      "source": [
        "df.describe()"
      ]
    },
    {
      "cell_type": "code",
      "execution_count": null,
      "metadata": {
        "colab": {
          "base_uri": "https://localhost:8080/"
        },
        "id": "E8mXcYpty6Vm",
        "outputId": "7ce47754-646b-4e72-de3d-c57565f0057f"
      },
      "outputs": [
        {
          "output_type": "execute_result",
          "data": {
            "text/plain": [
              "count    1186.000000\n",
              "mean      559.696880\n",
              "std       205.104668\n",
              "min       150.000000\n",
              "25%       464.250000\n",
              "50%       535.000000\n",
              "75%       600.000000\n",
              "max      2028.000000\n",
              "dtype: float64"
            ]
          },
          "metadata": {},
          "execution_count": 18
        }
      ],
      "source": [
        "(df['total_sqft']/df['bhk']).describe()"
      ]
    },
    {
      "cell_type": "code",
      "execution_count": null,
      "metadata": {
        "colab": {
          "base_uri": "https://localhost:8080/",
          "height": 300
        },
        "id": "OeNjm1xszYbv",
        "outputId": "094a4814-385b-412d-bee8-9963ccf1586c"
      },
      "outputs": [
        {
          "output_type": "execute_result",
          "data": {
            "text/plain": [
              "               bhk         bath   total_sqft  price_per_sqft        price\n",
              "count  1184.000000  1184.000000  1184.000000     1184.000000  1184.000000\n",
              "mean      2.298142     2.127534  1221.629223     6064.561655    75.162069\n",
              "std       0.639471     0.578381   309.782063     1840.783494    33.985918\n",
              "min       1.000000     1.000000   418.000000     1000.000000    10.500000\n",
              "25%       2.000000     2.000000  1034.500000     4787.750000    52.000000\n",
              "50%       2.000000     2.000000  1200.000000     5797.000000    69.660000\n",
              "75%       3.000000     2.000000  1392.750000     7059.000000    90.000000\n",
              "max       4.000000     4.000000  2077.000000    11500.000000   240.000000"
            ],
            "text/html": [
              "\n",
              "  <div id=\"df-9363b7a1-8ac7-40ca-ad3c-0b67a7fe3528\">\n",
              "    <div class=\"colab-df-container\">\n",
              "      <div>\n",
              "<style scoped>\n",
              "    .dataframe tbody tr th:only-of-type {\n",
              "        vertical-align: middle;\n",
              "    }\n",
              "\n",
              "    .dataframe tbody tr th {\n",
              "        vertical-align: top;\n",
              "    }\n",
              "\n",
              "    .dataframe thead th {\n",
              "        text-align: right;\n",
              "    }\n",
              "</style>\n",
              "<table border=\"1\" class=\"dataframe\">\n",
              "  <thead>\n",
              "    <tr style=\"text-align: right;\">\n",
              "      <th></th>\n",
              "      <th>bhk</th>\n",
              "      <th>bath</th>\n",
              "      <th>total_sqft</th>\n",
              "      <th>price_per_sqft</th>\n",
              "      <th>price</th>\n",
              "    </tr>\n",
              "  </thead>\n",
              "  <tbody>\n",
              "    <tr>\n",
              "      <th>count</th>\n",
              "      <td>1184.000000</td>\n",
              "      <td>1184.000000</td>\n",
              "      <td>1184.000000</td>\n",
              "      <td>1184.000000</td>\n",
              "      <td>1184.000000</td>\n",
              "    </tr>\n",
              "    <tr>\n",
              "      <th>mean</th>\n",
              "      <td>2.298142</td>\n",
              "      <td>2.127534</td>\n",
              "      <td>1221.629223</td>\n",
              "      <td>6064.561655</td>\n",
              "      <td>75.162069</td>\n",
              "    </tr>\n",
              "    <tr>\n",
              "      <th>std</th>\n",
              "      <td>0.639471</td>\n",
              "      <td>0.578381</td>\n",
              "      <td>309.782063</td>\n",
              "      <td>1840.783494</td>\n",
              "      <td>33.985918</td>\n",
              "    </tr>\n",
              "    <tr>\n",
              "      <th>min</th>\n",
              "      <td>1.000000</td>\n",
              "      <td>1.000000</td>\n",
              "      <td>418.000000</td>\n",
              "      <td>1000.000000</td>\n",
              "      <td>10.500000</td>\n",
              "    </tr>\n",
              "    <tr>\n",
              "      <th>25%</th>\n",
              "      <td>2.000000</td>\n",
              "      <td>2.000000</td>\n",
              "      <td>1034.500000</td>\n",
              "      <td>4787.750000</td>\n",
              "      <td>52.000000</td>\n",
              "    </tr>\n",
              "    <tr>\n",
              "      <th>50%</th>\n",
              "      <td>2.000000</td>\n",
              "      <td>2.000000</td>\n",
              "      <td>1200.000000</td>\n",
              "      <td>5797.000000</td>\n",
              "      <td>69.660000</td>\n",
              "    </tr>\n",
              "    <tr>\n",
              "      <th>75%</th>\n",
              "      <td>3.000000</td>\n",
              "      <td>2.000000</td>\n",
              "      <td>1392.750000</td>\n",
              "      <td>7059.000000</td>\n",
              "      <td>90.000000</td>\n",
              "    </tr>\n",
              "    <tr>\n",
              "      <th>max</th>\n",
              "      <td>4.000000</td>\n",
              "      <td>4.000000</td>\n",
              "      <td>2077.000000</td>\n",
              "      <td>11500.000000</td>\n",
              "      <td>240.000000</td>\n",
              "    </tr>\n",
              "  </tbody>\n",
              "</table>\n",
              "</div>\n",
              "      <button class=\"colab-df-convert\" onclick=\"convertToInteractive('df-9363b7a1-8ac7-40ca-ad3c-0b67a7fe3528')\"\n",
              "              title=\"Convert this dataframe to an interactive table.\"\n",
              "              style=\"display:none;\">\n",
              "        \n",
              "  <svg xmlns=\"http://www.w3.org/2000/svg\" height=\"24px\"viewBox=\"0 0 24 24\"\n",
              "       width=\"24px\">\n",
              "    <path d=\"M0 0h24v24H0V0z\" fill=\"none\"/>\n",
              "    <path d=\"M18.56 5.44l.94 2.06.94-2.06 2.06-.94-2.06-.94-.94-2.06-.94 2.06-2.06.94zm-11 1L8.5 8.5l.94-2.06 2.06-.94-2.06-.94L8.5 2.5l-.94 2.06-2.06.94zm10 10l.94 2.06.94-2.06 2.06-.94-2.06-.94-.94-2.06-.94 2.06-2.06.94z\"/><path d=\"M17.41 7.96l-1.37-1.37c-.4-.4-.92-.59-1.43-.59-.52 0-1.04.2-1.43.59L10.3 9.45l-7.72 7.72c-.78.78-.78 2.05 0 2.83L4 21.41c.39.39.9.59 1.41.59.51 0 1.02-.2 1.41-.59l7.78-7.78 2.81-2.81c.8-.78.8-2.07 0-2.86zM5.41 20L4 18.59l7.72-7.72 1.47 1.35L5.41 20z\"/>\n",
              "  </svg>\n",
              "      </button>\n",
              "      \n",
              "  <style>\n",
              "    .colab-df-container {\n",
              "      display:flex;\n",
              "      flex-wrap:wrap;\n",
              "      gap: 12px;\n",
              "    }\n",
              "\n",
              "    .colab-df-convert {\n",
              "      background-color: #E8F0FE;\n",
              "      border: none;\n",
              "      border-radius: 50%;\n",
              "      cursor: pointer;\n",
              "      display: none;\n",
              "      fill: #1967D2;\n",
              "      height: 32px;\n",
              "      padding: 0 0 0 0;\n",
              "      width: 32px;\n",
              "    }\n",
              "\n",
              "    .colab-df-convert:hover {\n",
              "      background-color: #E2EBFA;\n",
              "      box-shadow: 0px 1px 2px rgba(60, 64, 67, 0.3), 0px 1px 3px 1px rgba(60, 64, 67, 0.15);\n",
              "      fill: #174EA6;\n",
              "    }\n",
              "\n",
              "    [theme=dark] .colab-df-convert {\n",
              "      background-color: #3B4455;\n",
              "      fill: #D2E3FC;\n",
              "    }\n",
              "\n",
              "    [theme=dark] .colab-df-convert:hover {\n",
              "      background-color: #434B5C;\n",
              "      box-shadow: 0px 1px 3px 1px rgba(0, 0, 0, 0.15);\n",
              "      filter: drop-shadow(0px 1px 2px rgba(0, 0, 0, 0.3));\n",
              "      fill: #FFFFFF;\n",
              "    }\n",
              "  </style>\n",
              "\n",
              "      <script>\n",
              "        const buttonEl =\n",
              "          document.querySelector('#df-9363b7a1-8ac7-40ca-ad3c-0b67a7fe3528 button.colab-df-convert');\n",
              "        buttonEl.style.display =\n",
              "          google.colab.kernel.accessAllowed ? 'block' : 'none';\n",
              "\n",
              "        async function convertToInteractive(key) {\n",
              "          const element = document.querySelector('#df-9363b7a1-8ac7-40ca-ad3c-0b67a7fe3528');\n",
              "          const dataTable =\n",
              "            await google.colab.kernel.invokeFunction('convertToInteractive',\n",
              "                                                     [key], {});\n",
              "          if (!dataTable) return;\n",
              "\n",
              "          const docLinkHtml = 'Like what you see? Visit the ' +\n",
              "            '<a target=\"_blank\" href=https://colab.research.google.com/notebooks/data_table.ipynb>data table notebook</a>'\n",
              "            + ' to learn more about interactive tables.';\n",
              "          element.innerHTML = '';\n",
              "          dataTable['output_type'] = 'display_data';\n",
              "          await google.colab.output.renderOutput(dataTable, element);\n",
              "          const docLink = document.createElement('div');\n",
              "          docLink.innerHTML = docLinkHtml;\n",
              "          element.appendChild(docLink);\n",
              "        }\n",
              "      </script>\n",
              "    </div>\n",
              "  </div>\n",
              "  "
            ]
          },
          "metadata": {},
          "execution_count": 19
        }
      ],
      "source": [
        "df = df[((df['total_sqft']/df['bhk']) >=200)]\n",
        "df.describe()"
      ]
    },
    {
      "cell_type": "code",
      "execution_count": null,
      "metadata": {
        "colab": {
          "base_uri": "https://localhost:8080/"
        },
        "id": "Hb2FontR0JsN",
        "outputId": "111ef0b4-f99d-4927-ac29-333e26c6e314"
      },
      "outputs": [
        {
          "output_type": "execute_result",
          "data": {
            "text/plain": [
              "count     1184.000000\n",
              "mean      6064.561655\n",
              "std       1840.783494\n",
              "min       1000.000000\n",
              "25%       4787.750000\n",
              "50%       5797.000000\n",
              "75%       7059.000000\n",
              "max      11500.000000\n",
              "Name: price_per_sqft, dtype: float64"
            ]
          },
          "metadata": {},
          "execution_count": 22
        }
      ],
      "source": [
        "df.price_per_sqft.describe()"
      ]
    },
    {
      "cell_type": "code",
      "execution_count": null,
      "metadata": {
        "id": "qa6D08rH0b6P"
      },
      "outputs": [],
      "source": [
        "def remove_outlier_sqft(df1):\n",
        "  df_output = pd.DataFrame()\n",
        "  for key,subdf in df1.groupby[\"location\"]:\n",
        "    m = np.mean(subdf.price_per_sqft)\n",
        "    st = np.std(subdf.price_per_sqft)\n",
        "\n",
        "    gen_df = subdf[(subdf.price_per_sqft > (m-st)) & (subdf.price_per_sqft <= (m-st))]\n",
        "    df_output = pd.concat([df_output,gen_df],ignore_index=True)\n",
        "    return df_output\n",
        "\n",
        "    df = remove_outlier_sqft(df)"
      ]
    },
    {
      "cell_type": "code",
      "execution_count": null,
      "metadata": {
        "colab": {
          "base_uri": "https://localhost:8080/",
          "height": 300
        },
        "id": "D9YJzWXf2GLY",
        "outputId": "7f7adf0e-b53b-4000-f2c8-519287d3c804"
      },
      "outputs": [
        {
          "output_type": "execute_result",
          "data": {
            "text/plain": [
              "               bhk         bath   total_sqft  price_per_sqft        price\n",
              "count  1184.000000  1184.000000  1184.000000     1184.000000  1184.000000\n",
              "mean      2.298142     2.127534  1221.629223     6064.561655    75.162069\n",
              "std       0.639471     0.578381   309.782063     1840.783494    33.985918\n",
              "min       1.000000     1.000000   418.000000     1000.000000    10.500000\n",
              "25%       2.000000     2.000000  1034.500000     4787.750000    52.000000\n",
              "50%       2.000000     2.000000  1200.000000     5797.000000    69.660000\n",
              "75%       3.000000     2.000000  1392.750000     7059.000000    90.000000\n",
              "max       4.000000     4.000000  2077.000000    11500.000000   240.000000"
            ],
            "text/html": [
              "\n",
              "  <div id=\"df-9ae5e311-9171-4bb3-97d3-5c44f76ce917\">\n",
              "    <div class=\"colab-df-container\">\n",
              "      <div>\n",
              "<style scoped>\n",
              "    .dataframe tbody tr th:only-of-type {\n",
              "        vertical-align: middle;\n",
              "    }\n",
              "\n",
              "    .dataframe tbody tr th {\n",
              "        vertical-align: top;\n",
              "    }\n",
              "\n",
              "    .dataframe thead th {\n",
              "        text-align: right;\n",
              "    }\n",
              "</style>\n",
              "<table border=\"1\" class=\"dataframe\">\n",
              "  <thead>\n",
              "    <tr style=\"text-align: right;\">\n",
              "      <th></th>\n",
              "      <th>bhk</th>\n",
              "      <th>bath</th>\n",
              "      <th>total_sqft</th>\n",
              "      <th>price_per_sqft</th>\n",
              "      <th>price</th>\n",
              "    </tr>\n",
              "  </thead>\n",
              "  <tbody>\n",
              "    <tr>\n",
              "      <th>count</th>\n",
              "      <td>1184.000000</td>\n",
              "      <td>1184.000000</td>\n",
              "      <td>1184.000000</td>\n",
              "      <td>1184.000000</td>\n",
              "      <td>1184.000000</td>\n",
              "    </tr>\n",
              "    <tr>\n",
              "      <th>mean</th>\n",
              "      <td>2.298142</td>\n",
              "      <td>2.127534</td>\n",
              "      <td>1221.629223</td>\n",
              "      <td>6064.561655</td>\n",
              "      <td>75.162069</td>\n",
              "    </tr>\n",
              "    <tr>\n",
              "      <th>std</th>\n",
              "      <td>0.639471</td>\n",
              "      <td>0.578381</td>\n",
              "      <td>309.782063</td>\n",
              "      <td>1840.783494</td>\n",
              "      <td>33.985918</td>\n",
              "    </tr>\n",
              "    <tr>\n",
              "      <th>min</th>\n",
              "      <td>1.000000</td>\n",
              "      <td>1.000000</td>\n",
              "      <td>418.000000</td>\n",
              "      <td>1000.000000</td>\n",
              "      <td>10.500000</td>\n",
              "    </tr>\n",
              "    <tr>\n",
              "      <th>25%</th>\n",
              "      <td>2.000000</td>\n",
              "      <td>2.000000</td>\n",
              "      <td>1034.500000</td>\n",
              "      <td>4787.750000</td>\n",
              "      <td>52.000000</td>\n",
              "    </tr>\n",
              "    <tr>\n",
              "      <th>50%</th>\n",
              "      <td>2.000000</td>\n",
              "      <td>2.000000</td>\n",
              "      <td>1200.000000</td>\n",
              "      <td>5797.000000</td>\n",
              "      <td>69.660000</td>\n",
              "    </tr>\n",
              "    <tr>\n",
              "      <th>75%</th>\n",
              "      <td>3.000000</td>\n",
              "      <td>2.000000</td>\n",
              "      <td>1392.750000</td>\n",
              "      <td>7059.000000</td>\n",
              "      <td>90.000000</td>\n",
              "    </tr>\n",
              "    <tr>\n",
              "      <th>max</th>\n",
              "      <td>4.000000</td>\n",
              "      <td>4.000000</td>\n",
              "      <td>2077.000000</td>\n",
              "      <td>11500.000000</td>\n",
              "      <td>240.000000</td>\n",
              "    </tr>\n",
              "  </tbody>\n",
              "</table>\n",
              "</div>\n",
              "      <button class=\"colab-df-convert\" onclick=\"convertToInteractive('df-9ae5e311-9171-4bb3-97d3-5c44f76ce917')\"\n",
              "              title=\"Convert this dataframe to an interactive table.\"\n",
              "              style=\"display:none;\">\n",
              "        \n",
              "  <svg xmlns=\"http://www.w3.org/2000/svg\" height=\"24px\"viewBox=\"0 0 24 24\"\n",
              "       width=\"24px\">\n",
              "    <path d=\"M0 0h24v24H0V0z\" fill=\"none\"/>\n",
              "    <path d=\"M18.56 5.44l.94 2.06.94-2.06 2.06-.94-2.06-.94-.94-2.06-.94 2.06-2.06.94zm-11 1L8.5 8.5l.94-2.06 2.06-.94-2.06-.94L8.5 2.5l-.94 2.06-2.06.94zm10 10l.94 2.06.94-2.06 2.06-.94-2.06-.94-.94-2.06-.94 2.06-2.06.94z\"/><path d=\"M17.41 7.96l-1.37-1.37c-.4-.4-.92-.59-1.43-.59-.52 0-1.04.2-1.43.59L10.3 9.45l-7.72 7.72c-.78.78-.78 2.05 0 2.83L4 21.41c.39.39.9.59 1.41.59.51 0 1.02-.2 1.41-.59l7.78-7.78 2.81-2.81c.8-.78.8-2.07 0-2.86zM5.41 20L4 18.59l7.72-7.72 1.47 1.35L5.41 20z\"/>\n",
              "  </svg>\n",
              "      </button>\n",
              "      \n",
              "  <style>\n",
              "    .colab-df-container {\n",
              "      display:flex;\n",
              "      flex-wrap:wrap;\n",
              "      gap: 12px;\n",
              "    }\n",
              "\n",
              "    .colab-df-convert {\n",
              "      background-color: #E8F0FE;\n",
              "      border: none;\n",
              "      border-radius: 50%;\n",
              "      cursor: pointer;\n",
              "      display: none;\n",
              "      fill: #1967D2;\n",
              "      height: 32px;\n",
              "      padding: 0 0 0 0;\n",
              "      width: 32px;\n",
              "    }\n",
              "\n",
              "    .colab-df-convert:hover {\n",
              "      background-color: #E2EBFA;\n",
              "      box-shadow: 0px 1px 2px rgba(60, 64, 67, 0.3), 0px 1px 3px 1px rgba(60, 64, 67, 0.15);\n",
              "      fill: #174EA6;\n",
              "    }\n",
              "\n",
              "    [theme=dark] .colab-df-convert {\n",
              "      background-color: #3B4455;\n",
              "      fill: #D2E3FC;\n",
              "    }\n",
              "\n",
              "    [theme=dark] .colab-df-convert:hover {\n",
              "      background-color: #434B5C;\n",
              "      box-shadow: 0px 1px 3px 1px rgba(0, 0, 0, 0.15);\n",
              "      filter: drop-shadow(0px 1px 2px rgba(0, 0, 0, 0.3));\n",
              "      fill: #FFFFFF;\n",
              "    }\n",
              "  </style>\n",
              "\n",
              "      <script>\n",
              "        const buttonEl =\n",
              "          document.querySelector('#df-9ae5e311-9171-4bb3-97d3-5c44f76ce917 button.colab-df-convert');\n",
              "        buttonEl.style.display =\n",
              "          google.colab.kernel.accessAllowed ? 'block' : 'none';\n",
              "\n",
              "        async function convertToInteractive(key) {\n",
              "          const element = document.querySelector('#df-9ae5e311-9171-4bb3-97d3-5c44f76ce917');\n",
              "          const dataTable =\n",
              "            await google.colab.kernel.invokeFunction('convertToInteractive',\n",
              "                                                     [key], {});\n",
              "          if (!dataTable) return;\n",
              "\n",
              "          const docLinkHtml = 'Like what you see? Visit the ' +\n",
              "            '<a target=\"_blank\" href=https://colab.research.google.com/notebooks/data_table.ipynb>data table notebook</a>'\n",
              "            + ' to learn more about interactive tables.';\n",
              "          element.innerHTML = '';\n",
              "          dataTable['output_type'] = 'display_data';\n",
              "          await google.colab.output.renderOutput(dataTable, element);\n",
              "          const docLink = document.createElement('div');\n",
              "          docLink.innerHTML = docLinkHtml;\n",
              "          element.appendChild(docLink);\n",
              "        }\n",
              "      </script>\n",
              "    </div>\n",
              "  </div>\n",
              "  "
            ]
          },
          "metadata": {},
          "execution_count": 24
        }
      ],
      "source": [
        "df.describe()"
      ]
    },
    {
      "cell_type": "code",
      "execution_count": null,
      "metadata": {
        "id": "_lZsH3Yf2MoW"
      },
      "outputs": [],
      "source": [
        "def bhk_outlier_remove(df1):\n",
        "  exclude_indices = np.array([])\n",
        "  for location, location_df in df1.groupby('location'):\n",
        "    bhk_stats = {}\n",
        "    for bhk,bhk_df in location_df.groupby('bhk'):\n",
        "      bhk_stats[bhk]={\n",
        "          'mean':np.mean(bhk_df.price_per_sqft),\n",
        "          'std':np.std(bhk_df.price_per_sqft),\n",
        "          'count':bhk_df.shape[0]\n",
        "      }\n",
        "\n",
        "    for bhk,bhk_df in location_df.groupby('bhk'):\n",
        "      stats=bhk_stats.get(bhk-1)\n",
        "      if stats and stats['count']>5:\n",
        "        exclude_indices=np.append(exclude_indices,bhk_df[bhk_df.price_per_sqft<(stats['mean'])].index.values)\n",
        "        return df1.drop(exclude_indices,axis='index')"
      ]
    },
    {
      "cell_type": "code",
      "execution_count": null,
      "metadata": {
        "id": "m-ogo9MD5JEW"
      },
      "outputs": [],
      "source": [
        "df=bhk_outlier_remove(df)"
      ]
    },
    {
      "cell_type": "code",
      "execution_count": null,
      "metadata": {
        "colab": {
          "base_uri": "https://localhost:8080/",
          "height": 300
        },
        "id": "CD3bbuoR5ps0",
        "outputId": "a57f0487-1995-4288-879c-ddfebd767aa2"
      },
      "outputs": [
        {
          "output_type": "execute_result",
          "data": {
            "text/plain": [
              "               bhk         bath   total_sqft  price_per_sqft        price\n",
              "count  1181.000000  1181.000000  1181.000000     1181.000000  1181.000000\n",
              "mean      2.296359     2.127011  1221.531753     6065.618967    75.172134\n",
              "std       0.639302     0.578534   310.070905     1842.958371    34.025235\n",
              "min       1.000000     1.000000   418.000000     1000.000000    10.500000\n",
              "25%       2.000000     2.000000  1033.000000     4784.000000    52.000000\n",
              "50%       2.000000     2.000000  1200.000000     5798.000000    69.500000\n",
              "75%       3.000000     2.000000  1392.000000     7059.000000    90.000000\n",
              "max       4.000000     4.000000  2077.000000    11500.000000   240.000000"
            ],
            "text/html": [
              "\n",
              "  <div id=\"df-42c3f12c-37b6-43d1-b3ab-d469d163ba04\">\n",
              "    <div class=\"colab-df-container\">\n",
              "      <div>\n",
              "<style scoped>\n",
              "    .dataframe tbody tr th:only-of-type {\n",
              "        vertical-align: middle;\n",
              "    }\n",
              "\n",
              "    .dataframe tbody tr th {\n",
              "        vertical-align: top;\n",
              "    }\n",
              "\n",
              "    .dataframe thead th {\n",
              "        text-align: right;\n",
              "    }\n",
              "</style>\n",
              "<table border=\"1\" class=\"dataframe\">\n",
              "  <thead>\n",
              "    <tr style=\"text-align: right;\">\n",
              "      <th></th>\n",
              "      <th>bhk</th>\n",
              "      <th>bath</th>\n",
              "      <th>total_sqft</th>\n",
              "      <th>price_per_sqft</th>\n",
              "      <th>price</th>\n",
              "    </tr>\n",
              "  </thead>\n",
              "  <tbody>\n",
              "    <tr>\n",
              "      <th>count</th>\n",
              "      <td>1181.000000</td>\n",
              "      <td>1181.000000</td>\n",
              "      <td>1181.000000</td>\n",
              "      <td>1181.000000</td>\n",
              "      <td>1181.000000</td>\n",
              "    </tr>\n",
              "    <tr>\n",
              "      <th>mean</th>\n",
              "      <td>2.296359</td>\n",
              "      <td>2.127011</td>\n",
              "      <td>1221.531753</td>\n",
              "      <td>6065.618967</td>\n",
              "      <td>75.172134</td>\n",
              "    </tr>\n",
              "    <tr>\n",
              "      <th>std</th>\n",
              "      <td>0.639302</td>\n",
              "      <td>0.578534</td>\n",
              "      <td>310.070905</td>\n",
              "      <td>1842.958371</td>\n",
              "      <td>34.025235</td>\n",
              "    </tr>\n",
              "    <tr>\n",
              "      <th>min</th>\n",
              "      <td>1.000000</td>\n",
              "      <td>1.000000</td>\n",
              "      <td>418.000000</td>\n",
              "      <td>1000.000000</td>\n",
              "      <td>10.500000</td>\n",
              "    </tr>\n",
              "    <tr>\n",
              "      <th>25%</th>\n",
              "      <td>2.000000</td>\n",
              "      <td>2.000000</td>\n",
              "      <td>1033.000000</td>\n",
              "      <td>4784.000000</td>\n",
              "      <td>52.000000</td>\n",
              "    </tr>\n",
              "    <tr>\n",
              "      <th>50%</th>\n",
              "      <td>2.000000</td>\n",
              "      <td>2.000000</td>\n",
              "      <td>1200.000000</td>\n",
              "      <td>5798.000000</td>\n",
              "      <td>69.500000</td>\n",
              "    </tr>\n",
              "    <tr>\n",
              "      <th>75%</th>\n",
              "      <td>3.000000</td>\n",
              "      <td>2.000000</td>\n",
              "      <td>1392.000000</td>\n",
              "      <td>7059.000000</td>\n",
              "      <td>90.000000</td>\n",
              "    </tr>\n",
              "    <tr>\n",
              "      <th>max</th>\n",
              "      <td>4.000000</td>\n",
              "      <td>4.000000</td>\n",
              "      <td>2077.000000</td>\n",
              "      <td>11500.000000</td>\n",
              "      <td>240.000000</td>\n",
              "    </tr>\n",
              "  </tbody>\n",
              "</table>\n",
              "</div>\n",
              "      <button class=\"colab-df-convert\" onclick=\"convertToInteractive('df-42c3f12c-37b6-43d1-b3ab-d469d163ba04')\"\n",
              "              title=\"Convert this dataframe to an interactive table.\"\n",
              "              style=\"display:none;\">\n",
              "        \n",
              "  <svg xmlns=\"http://www.w3.org/2000/svg\" height=\"24px\"viewBox=\"0 0 24 24\"\n",
              "       width=\"24px\">\n",
              "    <path d=\"M0 0h24v24H0V0z\" fill=\"none\"/>\n",
              "    <path d=\"M18.56 5.44l.94 2.06.94-2.06 2.06-.94-2.06-.94-.94-2.06-.94 2.06-2.06.94zm-11 1L8.5 8.5l.94-2.06 2.06-.94-2.06-.94L8.5 2.5l-.94 2.06-2.06.94zm10 10l.94 2.06.94-2.06 2.06-.94-2.06-.94-.94-2.06-.94 2.06-2.06.94z\"/><path d=\"M17.41 7.96l-1.37-1.37c-.4-.4-.92-.59-1.43-.59-.52 0-1.04.2-1.43.59L10.3 9.45l-7.72 7.72c-.78.78-.78 2.05 0 2.83L4 21.41c.39.39.9.59 1.41.59.51 0 1.02-.2 1.41-.59l7.78-7.78 2.81-2.81c.8-.78.8-2.07 0-2.86zM5.41 20L4 18.59l7.72-7.72 1.47 1.35L5.41 20z\"/>\n",
              "  </svg>\n",
              "      </button>\n",
              "      \n",
              "  <style>\n",
              "    .colab-df-container {\n",
              "      display:flex;\n",
              "      flex-wrap:wrap;\n",
              "      gap: 12px;\n",
              "    }\n",
              "\n",
              "    .colab-df-convert {\n",
              "      background-color: #E8F0FE;\n",
              "      border: none;\n",
              "      border-radius: 50%;\n",
              "      cursor: pointer;\n",
              "      display: none;\n",
              "      fill: #1967D2;\n",
              "      height: 32px;\n",
              "      padding: 0 0 0 0;\n",
              "      width: 32px;\n",
              "    }\n",
              "\n",
              "    .colab-df-convert:hover {\n",
              "      background-color: #E2EBFA;\n",
              "      box-shadow: 0px 1px 2px rgba(60, 64, 67, 0.3), 0px 1px 3px 1px rgba(60, 64, 67, 0.15);\n",
              "      fill: #174EA6;\n",
              "    }\n",
              "\n",
              "    [theme=dark] .colab-df-convert {\n",
              "      background-color: #3B4455;\n",
              "      fill: #D2E3FC;\n",
              "    }\n",
              "\n",
              "    [theme=dark] .colab-df-convert:hover {\n",
              "      background-color: #434B5C;\n",
              "      box-shadow: 0px 1px 3px 1px rgba(0, 0, 0, 0.15);\n",
              "      filter: drop-shadow(0px 1px 2px rgba(0, 0, 0, 0.3));\n",
              "      fill: #FFFFFF;\n",
              "    }\n",
              "  </style>\n",
              "\n",
              "      <script>\n",
              "        const buttonEl =\n",
              "          document.querySelector('#df-42c3f12c-37b6-43d1-b3ab-d469d163ba04 button.colab-df-convert');\n",
              "        buttonEl.style.display =\n",
              "          google.colab.kernel.accessAllowed ? 'block' : 'none';\n",
              "\n",
              "        async function convertToInteractive(key) {\n",
              "          const element = document.querySelector('#df-42c3f12c-37b6-43d1-b3ab-d469d163ba04');\n",
              "          const dataTable =\n",
              "            await google.colab.kernel.invokeFunction('convertToInteractive',\n",
              "                                                     [key], {});\n",
              "          if (!dataTable) return;\n",
              "\n",
              "          const docLinkHtml = 'Like what you see? Visit the ' +\n",
              "            '<a target=\"_blank\" href=https://colab.research.google.com/notebooks/data_table.ipynb>data table notebook</a>'\n",
              "            + ' to learn more about interactive tables.';\n",
              "          element.innerHTML = '';\n",
              "          dataTable['output_type'] = 'display_data';\n",
              "          await google.colab.output.renderOutput(dataTable, element);\n",
              "          const docLink = document.createElement('div');\n",
              "          docLink.innerHTML = docLinkHtml;\n",
              "          element.appendChild(docLink);\n",
              "        }\n",
              "      </script>\n",
              "    </div>\n",
              "  </div>\n",
              "  "
            ]
          },
          "metadata": {},
          "execution_count": 28
        }
      ],
      "source": [
        "df.describe()"
      ]
    },
    {
      "cell_type": "code",
      "execution_count": null,
      "metadata": {
        "id": "IF2jHAxw6A1u"
      },
      "outputs": [],
      "source": [
        "#df=df.drop(columns=['price_sqft'])"
      ]
    },
    {
      "cell_type": "code",
      "execution_count": null,
      "metadata": {
        "colab": {
          "base_uri": "https://localhost:8080/",
          "height": 206
        },
        "id": "FuBHDTnq6-O4",
        "outputId": "10d96120-86bf-4b44-c8b7-3a4ed61e96dd"
      },
      "outputs": [
        {
          "output_type": "execute_result",
          "data": {
            "text/plain": [
              "         location  bhk  bath  total_sqft  price_per_sqft   price  \\\n",
              "1  CV Raman Nagar  2.0   2.0      1165.0          5579.0   65.00   \n",
              "2  CV Raman Nagar  2.0   2.0      1150.0          5391.0   62.00   \n",
              "3           other  2.0   2.0      1065.0          6568.0   69.95   \n",
              "4   Sarjapur Road  3.0   2.0       922.0          7049.0   65.00   \n",
              "5     Thanisandra  3.0   3.0      2050.0          7804.0  160.00   \n",
              "\n",
              "       area_type  \n",
              "1     CarpetArea  \n",
              "2     CarpetArea  \n",
              "3   Built-upArea  \n",
              "4  Superbuilt-up  \n",
              "5  Superbuilt-up  "
            ],
            "text/html": [
              "\n",
              "  <div id=\"df-4e49de20-a1f6-4472-a3b4-17a10f727654\">\n",
              "    <div class=\"colab-df-container\">\n",
              "      <div>\n",
              "<style scoped>\n",
              "    .dataframe tbody tr th:only-of-type {\n",
              "        vertical-align: middle;\n",
              "    }\n",
              "\n",
              "    .dataframe tbody tr th {\n",
              "        vertical-align: top;\n",
              "    }\n",
              "\n",
              "    .dataframe thead th {\n",
              "        text-align: right;\n",
              "    }\n",
              "</style>\n",
              "<table border=\"1\" class=\"dataframe\">\n",
              "  <thead>\n",
              "    <tr style=\"text-align: right;\">\n",
              "      <th></th>\n",
              "      <th>location</th>\n",
              "      <th>bhk</th>\n",
              "      <th>bath</th>\n",
              "      <th>total_sqft</th>\n",
              "      <th>price_per_sqft</th>\n",
              "      <th>price</th>\n",
              "      <th>area_type</th>\n",
              "    </tr>\n",
              "  </thead>\n",
              "  <tbody>\n",
              "    <tr>\n",
              "      <th>1</th>\n",
              "      <td>CV Raman Nagar</td>\n",
              "      <td>2.0</td>\n",
              "      <td>2.0</td>\n",
              "      <td>1165.0</td>\n",
              "      <td>5579.0</td>\n",
              "      <td>65.00</td>\n",
              "      <td>CarpetArea</td>\n",
              "    </tr>\n",
              "    <tr>\n",
              "      <th>2</th>\n",
              "      <td>CV Raman Nagar</td>\n",
              "      <td>2.0</td>\n",
              "      <td>2.0</td>\n",
              "      <td>1150.0</td>\n",
              "      <td>5391.0</td>\n",
              "      <td>62.00</td>\n",
              "      <td>CarpetArea</td>\n",
              "    </tr>\n",
              "    <tr>\n",
              "      <th>3</th>\n",
              "      <td>other</td>\n",
              "      <td>2.0</td>\n",
              "      <td>2.0</td>\n",
              "      <td>1065.0</td>\n",
              "      <td>6568.0</td>\n",
              "      <td>69.95</td>\n",
              "      <td>Built-upArea</td>\n",
              "    </tr>\n",
              "    <tr>\n",
              "      <th>4</th>\n",
              "      <td>Sarjapur Road</td>\n",
              "      <td>3.0</td>\n",
              "      <td>2.0</td>\n",
              "      <td>922.0</td>\n",
              "      <td>7049.0</td>\n",
              "      <td>65.00</td>\n",
              "      <td>Superbuilt-up</td>\n",
              "    </tr>\n",
              "    <tr>\n",
              "      <th>5</th>\n",
              "      <td>Thanisandra</td>\n",
              "      <td>3.0</td>\n",
              "      <td>3.0</td>\n",
              "      <td>2050.0</td>\n",
              "      <td>7804.0</td>\n",
              "      <td>160.00</td>\n",
              "      <td>Superbuilt-up</td>\n",
              "    </tr>\n",
              "  </tbody>\n",
              "</table>\n",
              "</div>\n",
              "      <button class=\"colab-df-convert\" onclick=\"convertToInteractive('df-4e49de20-a1f6-4472-a3b4-17a10f727654')\"\n",
              "              title=\"Convert this dataframe to an interactive table.\"\n",
              "              style=\"display:none;\">\n",
              "        \n",
              "  <svg xmlns=\"http://www.w3.org/2000/svg\" height=\"24px\"viewBox=\"0 0 24 24\"\n",
              "       width=\"24px\">\n",
              "    <path d=\"M0 0h24v24H0V0z\" fill=\"none\"/>\n",
              "    <path d=\"M18.56 5.44l.94 2.06.94-2.06 2.06-.94-2.06-.94-.94-2.06-.94 2.06-2.06.94zm-11 1L8.5 8.5l.94-2.06 2.06-.94-2.06-.94L8.5 2.5l-.94 2.06-2.06.94zm10 10l.94 2.06.94-2.06 2.06-.94-2.06-.94-.94-2.06-.94 2.06-2.06.94z\"/><path d=\"M17.41 7.96l-1.37-1.37c-.4-.4-.92-.59-1.43-.59-.52 0-1.04.2-1.43.59L10.3 9.45l-7.72 7.72c-.78.78-.78 2.05 0 2.83L4 21.41c.39.39.9.59 1.41.59.51 0 1.02-.2 1.41-.59l7.78-7.78 2.81-2.81c.8-.78.8-2.07 0-2.86zM5.41 20L4 18.59l7.72-7.72 1.47 1.35L5.41 20z\"/>\n",
              "  </svg>\n",
              "      </button>\n",
              "      \n",
              "  <style>\n",
              "    .colab-df-container {\n",
              "      display:flex;\n",
              "      flex-wrap:wrap;\n",
              "      gap: 12px;\n",
              "    }\n",
              "\n",
              "    .colab-df-convert {\n",
              "      background-color: #E8F0FE;\n",
              "      border: none;\n",
              "      border-radius: 50%;\n",
              "      cursor: pointer;\n",
              "      display: none;\n",
              "      fill: #1967D2;\n",
              "      height: 32px;\n",
              "      padding: 0 0 0 0;\n",
              "      width: 32px;\n",
              "    }\n",
              "\n",
              "    .colab-df-convert:hover {\n",
              "      background-color: #E2EBFA;\n",
              "      box-shadow: 0px 1px 2px rgba(60, 64, 67, 0.3), 0px 1px 3px 1px rgba(60, 64, 67, 0.15);\n",
              "      fill: #174EA6;\n",
              "    }\n",
              "\n",
              "    [theme=dark] .colab-df-convert {\n",
              "      background-color: #3B4455;\n",
              "      fill: #D2E3FC;\n",
              "    }\n",
              "\n",
              "    [theme=dark] .colab-df-convert:hover {\n",
              "      background-color: #434B5C;\n",
              "      box-shadow: 0px 1px 3px 1px rgba(0, 0, 0, 0.15);\n",
              "      filter: drop-shadow(0px 1px 2px rgba(0, 0, 0, 0.3));\n",
              "      fill: #FFFFFF;\n",
              "    }\n",
              "  </style>\n",
              "\n",
              "      <script>\n",
              "        const buttonEl =\n",
              "          document.querySelector('#df-4e49de20-a1f6-4472-a3b4-17a10f727654 button.colab-df-convert');\n",
              "        buttonEl.style.display =\n",
              "          google.colab.kernel.accessAllowed ? 'block' : 'none';\n",
              "\n",
              "        async function convertToInteractive(key) {\n",
              "          const element = document.querySelector('#df-4e49de20-a1f6-4472-a3b4-17a10f727654');\n",
              "          const dataTable =\n",
              "            await google.colab.kernel.invokeFunction('convertToInteractive',\n",
              "                                                     [key], {});\n",
              "          if (!dataTable) return;\n",
              "\n",
              "          const docLinkHtml = 'Like what you see? Visit the ' +\n",
              "            '<a target=\"_blank\" href=https://colab.research.google.com/notebooks/data_table.ipynb>data table notebook</a>'\n",
              "            + ' to learn more about interactive tables.';\n",
              "          element.innerHTML = '';\n",
              "          dataTable['output_type'] = 'display_data';\n",
              "          await google.colab.output.renderOutput(dataTable, element);\n",
              "          const docLink = document.createElement('div');\n",
              "          docLink.innerHTML = docLinkHtml;\n",
              "          element.appendChild(docLink);\n",
              "        }\n",
              "      </script>\n",
              "    </div>\n",
              "  </div>\n",
              "  "
            ]
          },
          "metadata": {},
          "execution_count": 30
        }
      ],
      "source": [
        "df.head()"
      ]
    },
    {
      "cell_type": "code",
      "execution_count": null,
      "metadata": {
        "colab": {
          "background_save": true
        },
        "id": "lXqxC8br4XpI"
      },
      "outputs": [],
      "source": [
        "df.to_csv(\"clean_data.csv\")"
      ]
    },
    {
      "cell_type": "code",
      "execution_count": null,
      "metadata": {
        "id": "jgtvBYZIRlWp"
      },
      "outputs": [],
      "source": [
        "X=df.drop(columns=['price'])\n",
        "y=df['price']"
      ]
    },
    {
      "cell_type": "code",
      "execution_count": null,
      "metadata": {
        "id": "rHL8LrRv7-8J"
      },
      "outputs": [],
      "source": [
        "from sklearn.model_selection import train_test_split\n",
        "from sklearn.linear_model import LinearRegression,Lasso,Ridge\n",
        "from sklearn.preprocessing import OneHotEncoder,StandardScaler\n",
        "from sklearn.compose import make_column_transformer\n",
        "from sklearn.metrics import r2_score"
      ]
    },
    {
      "cell_type": "code",
      "execution_count": null,
      "metadata": {
        "id": "Z925_Dq88qo4"
      },
      "outputs": [],
      "source": [
        "X_train,X_test,y_train,y_test = train_test_split(X,y,test_size=0.2,random_state=0)"
      ]
    },
    {
      "cell_type": "code",
      "execution_count": null,
      "metadata": {
        "colab": {
          "base_uri": "https://localhost:8080/"
        },
        "id": "88nFMMWA85m9",
        "outputId": "79084280-f37d-48d8-e752-18d480a0e25c"
      },
      "outputs": [
        {
          "output_type": "stream",
          "name": "stdout",
          "text": [
            "(944, 6)\n",
            "(237, 6)\n"
          ]
        }
      ],
      "source": [
        "print(X_train.shape)\n",
        "print(X_test.shape)"
      ]
    },
    {
      "cell_type": "code",
      "execution_count": null,
      "metadata": {
        "id": "J_CT0ODH9Crz"
      },
      "outputs": [],
      "source": [
        "#Linear Reg"
      ]
    },
    {
      "cell_type": "code",
      "execution_count": null,
      "metadata": {
        "id": "eQdaT0aD9WdS"
      },
      "outputs": [],
      "source": [
        "column_trans = make_column_transformer((OneHotEncoder(handle_unknown='ignore',sparse=False),['location','area_type']),remainder='passthrough')"
      ]
    },
    {
      "cell_type": "code",
      "execution_count": null,
      "metadata": {
        "id": "rLjXB1aE9sIW"
      },
      "outputs": [],
      "source": [
        "scaler=StandardScaler()"
      ]
    },
    {
      "cell_type": "code",
      "execution_count": null,
      "metadata": {
        "id": "EcdN71wV9wNW"
      },
      "outputs": [],
      "source": [
        "lr=LinearRegression()"
      ]
    },
    {
      "cell_type": "code",
      "execution_count": null,
      "metadata": {
        "id": "nJL4i6O691c0"
      },
      "outputs": [],
      "source": [
        "from sklearn.pipeline import make_pipeline\n",
        "pipe=make_pipeline(column_trans,scaler,lr)"
      ]
    },
    {
      "cell_type": "code",
      "execution_count": null,
      "metadata": {
        "id": "L7pIj9eb97bu"
      },
      "outputs": [],
      "source": [
        "pipe=pipe.fit(X_train,y_train)"
      ]
    },
    {
      "cell_type": "code",
      "execution_count": null,
      "metadata": {
        "id": "G0eevh68-Afa"
      },
      "outputs": [],
      "source": [
        "y_pred_lr=pipe.predict(X_test)"
      ]
    },
    {
      "cell_type": "markdown",
      "metadata": {
        "id": "4TTUVzzy6h8J"
      },
      "source": [
        "**Lasso Model**"
      ]
    },
    {
      "cell_type": "code",
      "execution_count": null,
      "metadata": {
        "id": "JVWlD-hZ-USZ"
      },
      "outputs": [],
      "source": [
        "lasso=Lasso()"
      ]
    },
    {
      "cell_type": "code",
      "execution_count": null,
      "metadata": {
        "id": "6bBXu7ML-wlK"
      },
      "outputs": [],
      "source": [
        "pipe=make_pipeline(column_trans,scaler,lasso)"
      ]
    },
    {
      "cell_type": "code",
      "execution_count": null,
      "metadata": {
        "id": "acS5iWpW-3gr"
      },
      "outputs": [],
      "source": [
        "pipe.fit(X_train,y_train)"
      ]
    },
    {
      "cell_type": "code",
      "execution_count": null,
      "metadata": {
        "id": "NvkMsOAa-6J_"
      },
      "outputs": [],
      "source": [
        "y_pred_lasso=pipe.predict(X_test)"
      ]
    },
    {
      "cell_type": "code",
      "execution_count": null,
      "metadata": {
        "id": "NDahuW_k_CMG",
        "colab": {
          "base_uri": "https://localhost:8080/"
        },
        "outputId": "958d1cfc-9d06-4d68-e974-01ee5db70a84"
      },
      "outputs": [
        {
          "output_type": "execute_result",
          "data": {
            "text/plain": [
              "87.4552635851333"
            ]
          },
          "metadata": {},
          "execution_count": 46
        }
      ],
      "source": [
        "lasso_score=r2_score(y_test,y_pred_lasso)*100\n",
        "lasso_score"
      ]
    },
    {
      "cell_type": "markdown",
      "metadata": {
        "id": "zQd2iMWn6m05"
      },
      "source": [
        "**Ridge Model**"
      ]
    },
    {
      "cell_type": "code",
      "execution_count": null,
      "metadata": {
        "id": "_ukEVPXpKSo4"
      },
      "outputs": [],
      "source": [
        "ridge=Ridge()"
      ]
    },
    {
      "cell_type": "code",
      "execution_count": null,
      "metadata": {
        "id": "uFtiuJenSoHE"
      },
      "outputs": [],
      "source": [
        "pipe=make_pipeline(column_trans,scaler,ridge)"
      ]
    },
    {
      "cell_type": "code",
      "execution_count": null,
      "metadata": {
        "id": "4ZqWCPOVSsz7"
      },
      "outputs": [],
      "source": [
        "pipe.fit(X_train,y_train)"
      ]
    },
    {
      "cell_type": "code",
      "execution_count": null,
      "metadata": {
        "id": "oCDnbotoSxQp"
      },
      "outputs": [],
      "source": [
        "y_pred_ridge=pipe.predict(X_test)"
      ]
    },
    {
      "cell_type": "code",
      "execution_count": null,
      "metadata": {
        "id": "Z4zl6w09S127",
        "colab": {
          "base_uri": "https://localhost:8080/"
        },
        "outputId": "c076fcad-f322-4901-890d-42609a6e94dd"
      },
      "outputs": [
        {
          "output_type": "execute_result",
          "data": {
            "text/plain": [
              "85.57712257860585"
            ]
          },
          "metadata": {},
          "execution_count": 51
        }
      ],
      "source": [
        "ridge_score = r2_score(y_test,y_pred_ridge)*100\n",
        "ridge_score"
      ]
    },
    {
      "cell_type": "markdown",
      "metadata": {
        "id": "-OLp_cLUdjrR"
      },
      "source": [
        "**Decision Tree**"
      ]
    },
    {
      "cell_type": "code",
      "execution_count": null,
      "metadata": {
        "id": "BgodG9chfTA9"
      },
      "outputs": [],
      "source": [
        "def distplot(param):\n",
        "    plt.figure(figsize=(10,5))\n",
        "    sns.distplot(df[param], color = \"blue\", hist_kws={\"rwidth\":0.80, 'alpha':1.0})\n",
        "    plt.xticks(np.arange(0,20,1),rotation=45)\n",
        "    plt.xlabel('\\n'+param)\n",
        "    plt.ylabel('Distribution\\n')\n",
        "    plt.show()\n",
        "distplot(\"price\")"
      ]
    },
    {
      "cell_type": "markdown",
      "metadata": {
        "id": "HLoLz2ngInuA"
      },
      "source": [
        "Decision Tree Model"
      ]
    },
    {
      "cell_type": "code",
      "execution_count": null,
      "metadata": {
        "id": "1uGD2SKoIJ8M"
      },
      "outputs": [],
      "source": [
        "from sklearn.tree import  DecisionTreeClassifier\n",
        "from sklearn import tree\n",
        "from sklearn.metrics import classification_report\n",
        "from sklearn import preprocessing\n",
        "!pip install category_encoders\n",
        "import category_encoders as ce\n",
        "\n",
        "# encode variables with ordinal encoding\n",
        "encoder = ce.OrdinalEncoder(cols=['location','area_type'])\n",
        "data = encoder.fit_transform(df)"
      ]
    },
    {
      "cell_type": "code",
      "execution_count": null,
      "metadata": {
        "id": "mqGLkvEAJ-oA"
      },
      "outputs": [],
      "source": [
        "data"
      ]
    },
    {
      "cell_type": "code",
      "execution_count": null,
      "metadata": {
        "id": "kn8O6OyMqfWR"
      },
      "outputs": [],
      "source": [
        "X = data.drop(['price'], axis=1)\n",
        "y = data['price']"
      ]
    },
    {
      "cell_type": "code",
      "execution_count": null,
      "metadata": {
        "id": "LZTigPo6Gfaz"
      },
      "outputs": [],
      "source": [
        "X_train, X_test, y_train, y_test = train_test_split(X, y, test_size=0.3, random_state=42)"
      ]
    },
    {
      "cell_type": "code",
      "execution_count": null,
      "metadata": {
        "id": "OXIZ1Sa_FySu"
      },
      "outputs": [],
      "source": [
        "scaler = StandardScaler()\n",
        "X_train  = scaler.fit_transform(X_train)\n",
        "X_test = scaler.transform(X_test)"
      ]
    },
    {
      "cell_type": "code",
      "execution_count": null,
      "metadata": {
        "colab": {
          "base_uri": "https://localhost:8080/"
        },
        "id": "gDIrhaUZGmGb",
        "outputId": "30114c69-5e9f-4ddf-f2d5-708cd8a4ffc3"
      },
      "outputs": [
        {
          "name": "stdout",
          "output_type": "stream",
          "text": [
            "X_train: (826, 6)\n",
            "X_test: (355, 6)\n",
            "y_train: (826,)\n",
            "y_test: (355,)\n"
          ]
        }
      ],
      "source": [
        "print(\"X_train:\", X_train.shape)\n",
        "print(\"X_test:\", X_test.shape)\n",
        "print(\"y_train:\", y_train.shape)\n",
        "print(\"y_test:\", y_test.shape)"
      ]
    },
    {
      "cell_type": "code",
      "execution_count": null,
      "metadata": {
        "id": "yQ7FLqcRx3hr"
      },
      "outputs": [],
      "source": [
        "from sklearn.tree import DecisionTreeRegressor\n",
        "from sklearn.ensemble import RandomForestRegressor\n",
        "from sklearn.metrics import accuracy_score, mean_absolute_error, mean_squared_error, r2_score"
      ]
    },
    {
      "cell_type": "markdown",
      "source": [
        "**LINEAR REGRESSION**"
      ],
      "metadata": {
        "id": "0oJJxZpQ6PCm"
      }
    },
    {
      "cell_type": "code",
      "execution_count": null,
      "metadata": {
        "id": "RyRNV0igwpEX"
      },
      "outputs": [],
      "source": [
        "lr = LinearRegression()\n",
        "lr.fit(X_train, y_train)\n",
        "lr_pred = lr.predict(X_test)"
      ]
    },
    {
      "cell_type": "code",
      "execution_count": null,
      "metadata": {
        "colab": {
          "base_uri": "https://localhost:8080/"
        },
        "id": "Pgk94rFKwb8p",
        "outputId": "b900742c-7673-4f21-8be6-b84af19dd2ac"
      },
      "outputs": [
        {
          "name": "stdout",
          "output_type": "stream",
          "text": [
            "MAE of the decision tree model is: 540.6335057459784\n",
            "MSE of the decision tree model is: 13588.989850816162\n",
            "R2 score of the decision tree model is: 88.14587290696842\n"
          ]
        }
      ],
      "source": [
        "lr_mae = mean_absolute_error(y_test, lr_pred)*100\n",
        "lr_mse = mean_squared_error(y_test, lr_pred)*100\n",
        "lr_r2 = r2_score(y_test, lr_pred)*100\n",
        "print(\"MAE of the decision tree model is:\", lr_mae)\n",
        "print(\"MSE of the decision tree model is:\", lr_mse)\n",
        "print(\"R2 score of the decision tree model is:\", lr_r2)"
      ]
    },
    {
      "cell_type": "markdown",
      "source": [
        "**DECISION TREE**"
      ],
      "metadata": {
        "id": "O8OR3zAl6XMM"
      }
    },
    {
      "cell_type": "code",
      "execution_count": null,
      "metadata": {
        "id": "pQZEpdsgHQkI"
      },
      "outputs": [],
      "source": [
        "dtree = DecisionTreeRegressor()\n",
        "dtree.fit(X_train, y_train)\n",
        "dtree_pred = dtree.predict(X_test)"
      ]
    },
    {
      "cell_type": "code",
      "execution_count": null,
      "metadata": {
        "colab": {
          "base_uri": "https://localhost:8080/"
        },
        "id": "IZKYobQFHW30",
        "outputId": "61bba9a8-4404-43f0-9fc7-6650286e15de"
      },
      "outputs": [
        {
          "name": "stdout",
          "output_type": "stream",
          "text": [
            "MAE of the decision tree model is: 458.256338028169\n",
            "MSE of the decision tree model is: 12652.731521126761\n",
            "R2 score of the decision tree model is: 88.96260213805111\n"
          ]
        }
      ],
      "source": [
        "dtree_mae = mean_absolute_error(y_test, dtree_pred)*100\n",
        "dtree_mse = mean_squared_error(y_test, dtree_pred)*100\n",
        "dtree_r2 = r2_score(y_test, dtree_pred)*100\n",
        "print(\"MAE of the decision tree model is:\", dtree_mae)\n",
        "print(\"MSE of the decision tree model is:\", dtree_mse)\n",
        "print(\"R2 score of the decision tree model is:\", dtree_r2)"
      ]
    },
    {
      "cell_type": "markdown",
      "metadata": {
        "id": "nk8xD2xyIcv2"
      },
      "source": [
        "**Random Forest**"
      ]
    },
    {
      "cell_type": "code",
      "execution_count": null,
      "metadata": {
        "id": "V0OIK4ynH0aC"
      },
      "outputs": [],
      "source": [
        "rforest = RandomForestRegressor() \n",
        "rforest.fit(X_train, y_train)\n",
        "rforest_pred = rforest.predict(X_test)"
      ]
    },
    {
      "cell_type": "code",
      "execution_count": null,
      "metadata": {
        "colab": {
          "base_uri": "https://localhost:8080/"
        },
        "id": "eWqzydDpH4x9",
        "outputId": "8db83c0d-b97b-4951-ec06-a0362340cb3f"
      },
      "outputs": [
        {
          "name": "stdout",
          "output_type": "stream",
          "text": [
            "MAE of the random forest model is: 329.6140845070423\n",
            "MSE of the random forest model is: 9831.157637154927\n",
            "R2 score of the random forest model is: 91.42395473233331\n"
          ]
        }
      ],
      "source": [
        "rforest_mae = mean_absolute_error(y_test, rforest_pred)*100\n",
        "rforest_mse = mean_squared_error(y_test, rforest_pred)*100\n",
        "rforest_r2 = r2_score(y_test, rforest_pred)*100\n",
        "print(\"MAE of the random forest model is:\", rforest_mae)\n",
        "print(\"MSE of the random forest model is:\", rforest_mse)\n",
        "print(\"R2 score of the random forest model is:\", rforest_r2)"
      ]
    },
    {
      "cell_type": "code",
      "execution_count": null,
      "metadata": {
        "colab": {
          "base_uri": "https://localhost:8080/"
        },
        "id": "mcP0a4DoMTyC",
        "outputId": "83f50a7b-ddc5-4653-ab9f-d765335e48aa"
      },
      "outputs": [
        {
          "name": "stdout",
          "output_type": "stream",
          "text": [
            "               Model      Score\n",
            "0  Linear Regression  88.145873\n",
            "1              Lasso  87.455264\n",
            "2              Ridge  85.577123\n",
            "3      Decision Tree  88.962602\n",
            "4      Random Forest  91.423955\n"
          ]
        }
      ],
      "source": [
        "print(pd.DataFrame([{'Model':'Linear Regression','Score':lr_r2},{'Model':'Lasso','Score':lasso_score},{'Model':'Ridge','Score':ridge_score},{'Model':'Decision Tree','Score':dtree_r2},{'Model':'Random Forest','Score':rforest_r2}],columns=['Model','Score']))"
      ]
    },
    {
      "cell_type": "code",
      "execution_count": null,
      "metadata": {
        "colab": {
          "base_uri": "https://localhost:8080/"
        },
        "id": "tpXHLnn2xk_r",
        "outputId": "779eec7a-3f67-4cfb-965c-eec4e5df8839"
      },
      "outputs": [
        {
          "data": {
            "text/plain": [
              "['house.pkl']"
            ]
          },
          "execution_count": 68,
          "metadata": {},
          "output_type": "execute_result"
        }
      ],
      "source": [
        "import joblib\n",
        "joblib.dump(rforest,'house.pkl') # .pkl pickle\n"
      ]
    },
    {
      "cell_type": "code",
      "execution_count": null,
      "metadata": {
        "id": "PGH7SL1ozaNR"
      },
      "outputs": [],
      "source": [
        "model = joblib.load('house.pkl')"
      ]
    },
    {
      "cell_type": "code",
      "execution_count": null,
      "metadata": {
        "colab": {
          "base_uri": "https://localhost:8080/"
        },
        "id": "C9reIvn6zp87",
        "outputId": "4cafea92-837d-45e5-dd64-0af4bb59c7e3"
      },
      "outputs": [
        {
          "data": {
            "text/plain": [
              "RandomForestRegressor()"
            ]
          },
          "execution_count": 73,
          "metadata": {},
          "output_type": "execute_result"
        }
      ],
      "source": [
        "model"
      ]
    },
    {
      "cell_type": "code",
      "execution_count": null,
      "metadata": {
        "id": "3AtUkGhQ0Aig"
      },
      "outputs": [],
      "source": [
        "import pickle"
      ]
    },
    {
      "cell_type": "code",
      "execution_count": null,
      "metadata": {
        "id": "5wStATV0KnNa"
      },
      "outputs": [],
      "source": [
        "pickle.dump(rforest,open('house.pkl','wb'))"
      ]
    },
    {
      "cell_type": "code",
      "execution_count": null,
      "metadata": {
        "id": "9j5_Po9h5PxV"
      },
      "outputs": [],
      "source": []
    }
  ],
  "metadata": {
    "colab": {
      "provenance": []
    },
    "kernelspec": {
      "display_name": "Python 3",
      "name": "python3"
    },
    "language_info": {
      "name": "python"
    }
  },
  "nbformat": 4,
  "nbformat_minor": 0
}