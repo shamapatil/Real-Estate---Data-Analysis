{
 "cells": [
  {
   "cell_type": "code",
   "execution_count": 1,
   "id": "bdd0657b",
   "metadata": {},
   "outputs": [],
   "source": [
    "import pandas as pd\n",
    "import numpy as np\n",
    "import matplotlib.pyplot as plt\n",
    "import seaborn as sns\n",
    "import warnings\n",
    "warnings.filterwarnings(\"ignore\")"
   ]
  },
  {
   "cell_type": "code",
   "execution_count": 11,
   "id": "01c3705c",
   "metadata": {},
   "outputs": [
    {
     "data": {
      "text/html": [
       "<div>\n",
       "<style scoped>\n",
       "    .dataframe tbody tr th:only-of-type {\n",
       "        vertical-align: middle;\n",
       "    }\n",
       "\n",
       "    .dataframe tbody tr th {\n",
       "        vertical-align: top;\n",
       "    }\n",
       "\n",
       "    .dataframe thead th {\n",
       "        text-align: right;\n",
       "    }\n",
       "</style>\n",
       "<table border=\"1\" class=\"dataframe\">\n",
       "  <thead>\n",
       "    <tr style=\"text-align: right;\">\n",
       "      <th></th>\n",
       "      <th>title</th>\n",
       "      <th>location</th>\n",
       "      <th>bhk</th>\n",
       "      <th>bath</th>\n",
       "      <th>total_sqft</th>\n",
       "      <th>price_per_sqft</th>\n",
       "      <th>price</th>\n",
       "      <th>area_type</th>\n",
       "    </tr>\n",
       "  </thead>\n",
       "  <tbody>\n",
       "    <tr>\n",
       "      <th>0</th>\n",
       "      <td>2 BHK Apartment</td>\n",
       "      <td>Maruthi Nagar</td>\n",
       "      <td>2</td>\n",
       "      <td>2</td>\n",
       "      <td>959</td>\n",
       "      <td>4171</td>\n",
       "      <td>42.00</td>\n",
       "      <td>Built-upArea</td>\n",
       "    </tr>\n",
       "    <tr>\n",
       "      <th>1</th>\n",
       "      <td>3 BHK Apartment</td>\n",
       "      <td>3rd Phase JP Nagar</td>\n",
       "      <td>3</td>\n",
       "      <td>3</td>\n",
       "      <td>2280</td>\n",
       "      <td>9868</td>\n",
       "      <td>225.00</td>\n",
       "      <td>Built-upArea</td>\n",
       "    </tr>\n",
       "    <tr>\n",
       "      <th>2</th>\n",
       "      <td>11 Bedroom House</td>\n",
       "      <td>8th Phase JP Nagar</td>\n",
       "      <td>11</td>\n",
       "      <td>11</td>\n",
       "      <td>1200</td>\n",
       "      <td>15000</td>\n",
       "      <td>180.00</td>\n",
       "      <td>PlotArea</td>\n",
       "    </tr>\n",
       "    <tr>\n",
       "      <th>3</th>\n",
       "      <td>3 BHK Apartment</td>\n",
       "      <td>CV Raman Nagar</td>\n",
       "      <td>3</td>\n",
       "      <td>3</td>\n",
       "      <td>2189</td>\n",
       "      <td>10507</td>\n",
       "      <td>230.00</td>\n",
       "      <td>CarpetArea</td>\n",
       "    </tr>\n",
       "    <tr>\n",
       "      <th>4</th>\n",
       "      <td>2 BHK Apartment</td>\n",
       "      <td>CV Raman Nagar</td>\n",
       "      <td>2</td>\n",
       "      <td>2</td>\n",
       "      <td>1165</td>\n",
       "      <td>5579</td>\n",
       "      <td>65.00</td>\n",
       "      <td>CarpetArea</td>\n",
       "    </tr>\n",
       "    <tr>\n",
       "      <th>...</th>\n",
       "      <td>...</td>\n",
       "      <td>...</td>\n",
       "      <td>...</td>\n",
       "      <td>...</td>\n",
       "      <td>...</td>\n",
       "      <td>...</td>\n",
       "      <td>...</td>\n",
       "      <td>...</td>\n",
       "    </tr>\n",
       "    <tr>\n",
       "      <th>1637</th>\n",
       "      <td>3 BHK Apartment</td>\n",
       "      <td>Nehru Nagar</td>\n",
       "      <td>3</td>\n",
       "      <td>2</td>\n",
       "      <td>1275</td>\n",
       "      <td>5800</td>\n",
       "      <td>73.95</td>\n",
       "      <td>Superbuilt-up</td>\n",
       "    </tr>\n",
       "    <tr>\n",
       "      <th>1638</th>\n",
       "      <td>2 BHK Apartment</td>\n",
       "      <td>Sarjapur Road</td>\n",
       "      <td>2</td>\n",
       "      <td>2</td>\n",
       "      <td>1049</td>\n",
       "      <td>5243</td>\n",
       "      <td>55.00</td>\n",
       "      <td>CarpetArea</td>\n",
       "    </tr>\n",
       "    <tr>\n",
       "      <th>1639</th>\n",
       "      <td>2 BHK Apartment</td>\n",
       "      <td>Addischetan Layout</td>\n",
       "      <td>2</td>\n",
       "      <td>2</td>\n",
       "      <td>1000</td>\n",
       "      <td>5800</td>\n",
       "      <td>58.00</td>\n",
       "      <td>CarpetArea</td>\n",
       "    </tr>\n",
       "    <tr>\n",
       "      <th>1640</th>\n",
       "      <td>2 Bedroom House</td>\n",
       "      <td>Kengeri</td>\n",
       "      <td>2</td>\n",
       "      <td>1</td>\n",
       "      <td>650</td>\n",
       "      <td>8923</td>\n",
       "      <td>58.00</td>\n",
       "      <td>Built-upArea</td>\n",
       "    </tr>\n",
       "    <tr>\n",
       "      <th>1641</th>\n",
       "      <td>3 Bedroom House</td>\n",
       "      <td>Kaggadasapura</td>\n",
       "      <td>3</td>\n",
       "      <td>4</td>\n",
       "      <td>900</td>\n",
       "      <td>13888</td>\n",
       "      <td>125.00</td>\n",
       "      <td>Built-upArea</td>\n",
       "    </tr>\n",
       "  </tbody>\n",
       "</table>\n",
       "<p>1642 rows × 8 columns</p>\n",
       "</div>"
      ],
      "text/plain": [
       "                  title             location  bhk  bath  total_sqft  \\\n",
       "0      2 BHK Apartment         Maruthi Nagar    2     2         959   \n",
       "1      3 BHK Apartment    3rd Phase JP Nagar    3     3        2280   \n",
       "2     11 Bedroom House    8th Phase JP Nagar   11    11        1200   \n",
       "3      3 BHK Apartment        CV Raman Nagar    3     3        2189   \n",
       "4      2 BHK Apartment        CV Raman Nagar    2     2        1165   \n",
       "...                 ...                  ...  ...   ...         ...   \n",
       "1637   3 BHK Apartment           Nehru Nagar    3     2        1275   \n",
       "1638   2 BHK Apartment         Sarjapur Road    2     2        1049   \n",
       "1639   2 BHK Apartment    Addischetan Layout    2     2        1000   \n",
       "1640   2 Bedroom House               Kengeri    2     1         650   \n",
       "1641   3 Bedroom House         Kaggadasapura    3     4         900   \n",
       "\n",
       "      price_per_sqft   price      area_type  \n",
       "0               4171   42.00   Built-upArea  \n",
       "1               9868  225.00   Built-upArea  \n",
       "2              15000  180.00       PlotArea  \n",
       "3              10507  230.00     CarpetArea  \n",
       "4               5579   65.00     CarpetArea  \n",
       "...              ...     ...            ...  \n",
       "1637            5800   73.95  Superbuilt-up  \n",
       "1638            5243   55.00     CarpetArea  \n",
       "1639            5800   58.00     CarpetArea  \n",
       "1640            8923   58.00   Built-upArea  \n",
       "1641           13888  125.00   Built-upArea  \n",
       "\n",
       "[1642 rows x 8 columns]"
      ]
     },
     "execution_count": 11,
     "metadata": {},
     "output_type": "execute_result"
    }
   ],
   "source": [
    "house = pd.read_csv(\"C:\\\\Users\\\\shama\\\\Documents\\\\excelr_project\\\\Property_info1.csv\")\n",
    "house"
   ]
  },
  {
   "cell_type": "code",
   "execution_count": 12,
   "id": "9c107e48",
   "metadata": {},
   "outputs": [
    {
     "data": {
      "text/plain": [
       "Index(['title', 'location', 'bhk', 'bath', 'total_sqft', 'price_per_sqft',\n",
       "       'price', 'area_type'],\n",
       "      dtype='object')"
      ]
     },
     "execution_count": 12,
     "metadata": {},
     "output_type": "execute_result"
    }
   ],
   "source": [
    "# Returns the column names of dataset.\n",
    "\n",
    "house.keys()"
   ]
  },
  {
   "cell_type": "code",
   "execution_count": 13,
   "id": "718925f9",
   "metadata": {},
   "outputs": [
    {
     "data": {
      "text/plain": [
       "title              object\n",
       "location           object\n",
       "bhk                 int64\n",
       "bath                int64\n",
       "total_sqft          int64\n",
       "price_per_sqft      int64\n",
       "price             float64\n",
       "area_type          object\n",
       "dtype: object"
      ]
     },
     "execution_count": 13,
     "metadata": {},
     "output_type": "execute_result"
    }
   ],
   "source": [
    "house.dtypes"
   ]
  },
  {
   "cell_type": "code",
   "execution_count": 14,
   "id": "e728f71b",
   "metadata": {},
   "outputs": [
    {
     "data": {
      "text/html": [
       "<div>\n",
       "<style scoped>\n",
       "    .dataframe tbody tr th:only-of-type {\n",
       "        vertical-align: middle;\n",
       "    }\n",
       "\n",
       "    .dataframe tbody tr th {\n",
       "        vertical-align: top;\n",
       "    }\n",
       "\n",
       "    .dataframe thead th {\n",
       "        text-align: right;\n",
       "    }\n",
       "</style>\n",
       "<table border=\"1\" class=\"dataframe\">\n",
       "  <thead>\n",
       "    <tr style=\"text-align: right;\">\n",
       "      <th></th>\n",
       "      <th>bhk</th>\n",
       "      <th>bath</th>\n",
       "      <th>total_sqft</th>\n",
       "      <th>price_per_sqft</th>\n",
       "      <th>price</th>\n",
       "    </tr>\n",
       "  </thead>\n",
       "  <tbody>\n",
       "    <tr>\n",
       "      <th>count</th>\n",
       "      <td>1642.000000</td>\n",
       "      <td>1642.000000</td>\n",
       "      <td>1642.000000</td>\n",
       "      <td>1642.000000</td>\n",
       "      <td>1642.000000</td>\n",
       "    </tr>\n",
       "    <tr>\n",
       "      <th>mean</th>\n",
       "      <td>2.886724</td>\n",
       "      <td>2.744823</td>\n",
       "      <td>1498.533496</td>\n",
       "      <td>8172.912911</td>\n",
       "      <td>115.613514</td>\n",
       "    </tr>\n",
       "    <tr>\n",
       "      <th>std</th>\n",
       "      <td>1.962930</td>\n",
       "      <td>1.947839</td>\n",
       "      <td>1812.067055</td>\n",
       "      <td>9475.935824</td>\n",
       "      <td>99.092756</td>\n",
       "    </tr>\n",
       "    <tr>\n",
       "      <th>min</th>\n",
       "      <td>1.000000</td>\n",
       "      <td>1.000000</td>\n",
       "      <td>30.000000</td>\n",
       "      <td>1000.000000</td>\n",
       "      <td>10.500000</td>\n",
       "    </tr>\n",
       "    <tr>\n",
       "      <th>25%</th>\n",
       "      <td>2.000000</td>\n",
       "      <td>2.000000</td>\n",
       "      <td>1055.000000</td>\n",
       "      <td>5000.000000</td>\n",
       "      <td>57.000000</td>\n",
       "    </tr>\n",
       "    <tr>\n",
       "      <th>50%</th>\n",
       "      <td>2.000000</td>\n",
       "      <td>2.000000</td>\n",
       "      <td>1200.000000</td>\n",
       "      <td>6306.000000</td>\n",
       "      <td>80.000000</td>\n",
       "    </tr>\n",
       "    <tr>\n",
       "      <th>75%</th>\n",
       "      <td>3.000000</td>\n",
       "      <td>3.000000</td>\n",
       "      <td>1557.250000</td>\n",
       "      <td>9109.500000</td>\n",
       "      <td>135.000000</td>\n",
       "    </tr>\n",
       "    <tr>\n",
       "      <th>max</th>\n",
       "      <td>32.000000</td>\n",
       "      <td>32.000000</td>\n",
       "      <td>65340.000000</td>\n",
       "      <td>333333.000000</td>\n",
       "      <td>864.000000</td>\n",
       "    </tr>\n",
       "  </tbody>\n",
       "</table>\n",
       "</div>"
      ],
      "text/plain": [
       "               bhk         bath    total_sqft  price_per_sqft        price\n",
       "count  1642.000000  1642.000000   1642.000000     1642.000000  1642.000000\n",
       "mean      2.886724     2.744823   1498.533496     8172.912911   115.613514\n",
       "std       1.962930     1.947839   1812.067055     9475.935824    99.092756\n",
       "min       1.000000     1.000000     30.000000     1000.000000    10.500000\n",
       "25%       2.000000     2.000000   1055.000000     5000.000000    57.000000\n",
       "50%       2.000000     2.000000   1200.000000     6306.000000    80.000000\n",
       "75%       3.000000     3.000000   1557.250000     9109.500000   135.000000\n",
       "max      32.000000    32.000000  65340.000000   333333.000000   864.000000"
      ]
     },
     "execution_count": 14,
     "metadata": {},
     "output_type": "execute_result"
    }
   ],
   "source": [
    "# Returns aggregrate functions for columns containing numerical data.\n",
    "\n",
    "house.describe()"
   ]
  },
  {
   "cell_type": "code",
   "execution_count": 15,
   "id": "4ae18b68",
   "metadata": {},
   "outputs": [],
   "source": [
    "# Drops the duplicate entires in the dataset.\n",
    "\n",
    "house=house.drop_duplicates()"
   ]
  },
  {
   "cell_type": "code",
   "execution_count": 16,
   "id": "847c2880",
   "metadata": {},
   "outputs": [
    {
     "name": "stdout",
     "output_type": "stream",
     "text": [
      "<class 'pandas.core.frame.DataFrame'>\n",
      "Int64Index: 1642 entries, 0 to 1641\n",
      "Data columns (total 8 columns):\n",
      " #   Column          Non-Null Count  Dtype  \n",
      "---  ------          --------------  -----  \n",
      " 0   title           1642 non-null   object \n",
      " 1   location        1642 non-null   object \n",
      " 2   bhk             1642 non-null   int64  \n",
      " 3   bath            1642 non-null   int64  \n",
      " 4   total_sqft      1642 non-null   int64  \n",
      " 5   price_per_sqft  1642 non-null   int64  \n",
      " 6   price           1642 non-null   float64\n",
      " 7   area_type       1642 non-null   object \n",
      "dtypes: float64(1), int64(4), object(3)\n",
      "memory usage: 115.5+ KB\n"
     ]
    }
   ],
   "source": [
    "house.info()"
   ]
  },
  {
   "cell_type": "code",
   "execution_count": 17,
   "id": "6d9702fc",
   "metadata": {},
   "outputs": [],
   "source": [
    "# The function 'values' returns the details of rows containing maximum and minimum values of a particular column.\n",
    "\n",
    "def values(x):\n",
    "    max_=house[x].idxmax()\n",
    "    max_details=pd.DataFrame(house.loc[max_])\n",
    "    \n",
    "    min_=house[x].idxmin()\n",
    "    min_details=pd.DataFrame(house.loc[min_])\n",
    "    \n",
    "    both=pd.concat([max_details,min_details],axis=1)\n",
    "    \n",
    "    return both"
   ]
  },
  {
   "cell_type": "code",
   "execution_count": 18,
   "id": "5cd22a78",
   "metadata": {},
   "outputs": [
    {
     "data": {
      "text/plain": [
       "2 BHK Apartment                      607\n",
       "3 BHK Apartment                      387\n",
       "3 Bedroom House                       89\n",
       "1 Bedroom House                       84\n",
       "4 Bedroom House                       82\n",
       "2 Bedroom House                       56\n",
       "5 Bedroom House                       54\n",
       "2 BHK Independent Builder Floor       44\n",
       "1 BHK Apartment                       41\n",
       "3 BHK Independent Builder Floor       32\n",
       "6 Bedroom House                       26\n",
       "1 BHK Independent Builder Floor       24\n",
       "4 BHK Apartment                       21\n",
       "7 Bedroom House                       18\n",
       "8 Bedroom House                        7\n",
       "9 Bedroom House                        7\n",
       "4 BHK Independent Builder Floor        7\n",
       "12 Bedroom House                       7\n",
       "11 Bedroom House                       7\n",
       "6 BHK Independent Builder Floor        5\n",
       "14 Bedroom House                       4\n",
       "13 Bedroom House                       4\n",
       "8 BHK Independent Builder Floor        3\n",
       "10 Bedroom House                       3\n",
       "5 BHK Independent Builder Floor        3\n",
       "Studio Apartments / 1 RK Flats         3\n",
       "10 BHK Independent Builder Floor       3\n",
       "9 BHK Independent Builder Floor        3\n",
       "5 BHK Apartment                        2\n",
       "7 BHK Independent Builder Floor        2\n",
       "32 Bedroom House                       1\n",
       "14 BHK Independent Builder Floor       1\n",
       "2 BHK Serviced Apartment               1\n",
       "16 Bedroom House                       1\n",
       "13 BHK Independent Builder Floor       1\n",
       "3 Bedroom Farm house                   1\n",
       "10 BHK Apartment                       1\n",
       "Name: title, dtype: int64"
      ]
     },
     "execution_count": 18,
     "metadata": {},
     "output_type": "execute_result"
    }
   ],
   "source": [
    "house['title'].value_counts()"
   ]
  },
  {
   "cell_type": "markdown",
   "id": "348c2bed",
   "metadata": {},
   "source": [
    "# House"
   ]
  },
  {
   "cell_type": "code",
   "execution_count": 19,
   "id": "ab928084",
   "metadata": {},
   "outputs": [],
   "source": [
    "house.set_index(keys='title',inplace=True)"
   ]
  },
  {
   "cell_type": "code",
   "execution_count": 20,
   "id": "e423106a",
   "metadata": {},
   "outputs": [
    {
     "data": {
      "text/plain": [
       "(1642, 7)"
      ]
     },
     "execution_count": 20,
     "metadata": {},
     "output_type": "execute_result"
    }
   ],
   "source": [
    "house.shape"
   ]
  },
  {
   "cell_type": "code",
   "execution_count": 21,
   "id": "f3c8e9e7",
   "metadata": {},
   "outputs": [
    {
     "data": {
      "text/plain": [
       "(450, 8)"
      ]
     },
     "execution_count": 21,
     "metadata": {},
     "output_type": "execute_result"
    }
   ],
   "source": [
    "d1=house.filter(like='House',axis=0)\n",
    "d1.reset_index(inplace=True)\n",
    "d1.shape"
   ]
  },
  {
   "cell_type": "code",
   "execution_count": 22,
   "id": "7ccdd75c",
   "metadata": {},
   "outputs": [
    {
     "data": {
      "image/png": "[encoded data removed]",
      "text/plain": [
       "<Figure size 432x288 with 1 Axes>"
      ]
     },
     "metadata": {
      "needs_background": "light"
     },
     "output_type": "display_data"
    }
   ],
   "source": [
    "d_1=d1['title'].value_counts().plot.bar()\n"
   ]
  },
  {
   "cell_type": "markdown",
   "id": "5b3be0fb",
   "metadata": {},
   "source": [
    "Most of the houses are of 3 bedroom House in the Dataset"
   ]
  },
  {
   "cell_type": "markdown",
   "id": "1823f043",
   "metadata": {},
   "source": [
    "# Apartments"
   ]
  },
  {
   "cell_type": "code",
   "execution_count": 23,
   "id": "c7a2db0d",
   "metadata": {},
   "outputs": [
    {
     "data": {
      "text/plain": [
       "(1063, 8)"
      ]
     },
     "execution_count": 23,
     "metadata": {},
     "output_type": "execute_result"
    }
   ],
   "source": [
    "d2=house.filter(like='Apartment',axis=0)\n",
    "d2.reset_index(inplace=True)\n",
    "d2.shape"
   ]
  },
  {
   "cell_type": "code",
   "execution_count": 24,
   "id": "8a7a8023",
   "metadata": {},
   "outputs": [
    {
     "data": {
      "text/plain": [
       "2 BHK Apartment                    607\n",
       "3 BHK Apartment                    387\n",
       "1 BHK Apartment                     41\n",
       "4 BHK Apartment                     21\n",
       "Studio Apartments / 1 RK Flats       3\n",
       "5 BHK Apartment                      2\n",
       "2 BHK Serviced Apartment             1\n",
       "10 BHK Apartment                     1\n",
       "Name: title, dtype: int64"
      ]
     },
     "execution_count": 24,
     "metadata": {},
     "output_type": "execute_result"
    }
   ],
   "source": [
    "d4=d2['title'].value_counts()\n",
    "d4"
   ]
  },
  {
   "cell_type": "code",
   "execution_count": 25,
   "id": "869a125b",
   "metadata": {},
   "outputs": [
    {
     "data": {
      "image/png": "[encoded data removed]",
      "text/plain": [
       "<Figure size 432x288 with 1 Axes>"
      ]
     },
     "metadata": {
      "needs_background": "light"
     },
     "output_type": "display_data"
    }
   ],
   "source": [
    "d4.plot.bar()\n",
    "plt.yscale('log')"
   ]
  },
  {
   "cell_type": "markdown",
   "id": "8e39b3d4",
   "metadata": {},
   "source": [
    "There are almost 600 2 BHK's, 300 3 BHK's, 40 1 BHK's etc"
   ]
  },
  {
   "cell_type": "markdown",
   "id": "6706afb2",
   "metadata": {},
   "source": [
    "# Builder Floor"
   ]
  },
  {
   "cell_type": "code",
   "execution_count": 26,
   "id": "bdd0c3a8",
   "metadata": {},
   "outputs": [
    {
     "data": {
      "text/plain": [
       "(128, 8)"
      ]
     },
     "execution_count": 26,
     "metadata": {},
     "output_type": "execute_result"
    }
   ],
   "source": [
    "d3=house.filter(like='Builder Floor',axis=0)\n",
    "d3.reset_index(inplace=True)\n",
    "d3.shape "
   ]
  },
  {
   "cell_type": "code",
   "execution_count": 27,
   "id": "327328cb",
   "metadata": {},
   "outputs": [
    {
     "data": {
      "text/plain": [
       "2 BHK Independent Builder Floor      44\n",
       "3 BHK Independent Builder Floor      32\n",
       "1 BHK Independent Builder Floor      24\n",
       "4 BHK Independent Builder Floor       7\n",
       "6 BHK Independent Builder Floor       5\n",
       "9 BHK Independent Builder Floor       3\n",
       "10 BHK Independent Builder Floor      3\n",
       "5 BHK Independent Builder Floor       3\n",
       "8 BHK Independent Builder Floor       3\n",
       "7 BHK Independent Builder Floor       2\n",
       "14 BHK Independent Builder Floor      1\n",
       "13 BHK Independent Builder Floor      1\n",
       "Name: title, dtype: int64"
      ]
     },
     "execution_count": 27,
     "metadata": {},
     "output_type": "execute_result"
    }
   ],
   "source": [
    "d3_1=d3['title'].value_counts()\n",
    "d3_1"
   ]
  },
  {
   "cell_type": "code",
   "execution_count": 28,
   "id": "6d4b5816",
   "metadata": {},
   "outputs": [
    {
     "data": {
      "image/png": "[encoded data removed]",
      "text/plain": [
       "<Figure size 432x288 with 1 Axes>"
      ]
     },
     "metadata": {
      "needs_background": "light"
     },
     "output_type": "display_data"
    }
   ],
   "source": [
    "d3_1.plot.bar();"
   ]
  },
  {
   "cell_type": "markdown",
   "id": "f7e3da2f",
   "metadata": {},
   "source": [
    "There are almost 40 2 BHK Builder Floor, 30 3 BHK Builder Floor, 20 1 BHK Builder Floor etc"
   ]
  },
  {
   "cell_type": "code",
   "execution_count": 29,
   "id": "ac8fa3a0",
   "metadata": {},
   "outputs": [
    {
     "data": {
      "text/plain": [
       "<AxesSubplot:xlabel='title'>"
      ]
     },
     "execution_count": 29,
     "metadata": {},
     "output_type": "execute_result"
    },
    {
     "data": {
      "image/png": "[encoded data removed]",
      "text/plain": [
       "<Figure size 432x288 with 1 Axes>"
      ]
     },
     "metadata": {
      "needs_background": "light"
     },
     "output_type": "display_data"
    }
   ],
   "source": [
    "house['price'].plot.bar()"
   ]
  },
  {
   "cell_type": "code",
   "execution_count": null,
   "id": "d2b80766",
   "metadata": {},
   "outputs": [],
   "source": []
  }
 ],
 "metadata": {
  "kernelspec": {
   "display_name": "Python 3 (ipykernel)",
   "language": "python",
   "name": "python3"
  },
  "language_info": {
   "codemirror_mode": {
    "name": "ipython",
    "version": 3
   },
   "file_extension": ".py",
   "mimetype": "text/x-python",
   "name": "python",
   "nbconvert_exporter": "python",
   "pygments_lexer": "ipython3",
   "version": "3.9.12"
  }
 },
 "nbformat": 4,
 "nbformat_minor": 5
}
